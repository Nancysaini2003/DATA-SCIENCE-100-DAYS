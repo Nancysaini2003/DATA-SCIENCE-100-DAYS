{
 "cells": [
  {
   "cell_type": "code",
   "execution_count": 1,
   "id": "786f2274",
   "metadata": {},
   "outputs": [],
   "source": [
    "# DECISION TREE (REGRESSION):"
   ]
  },
  {
   "cell_type": "code",
   "execution_count": 2,
   "id": "efc60d3e",
   "metadata": {},
   "outputs": [],
   "source": [
    "import pandas as pd\n",
    "import matplotlib.pyplot as plt\n",
    "import seaborn as sns\n",
    "from mlxtend.plotting import plot_decision_regions"
   ]
  },
  {
   "cell_type": "code",
   "execution_count": 3,
   "id": "b3527f37",
   "metadata": {},
   "outputs": [],
   "source": [
    "df = pd.read_csv(\"multiple_linear_regression_dataset.csv\")"
   ]
  },
  {
   "cell_type": "code",
   "execution_count": 4,
   "id": "9824f385",
   "metadata": {},
   "outputs": [
    {
     "data": {
      "text/html": [
       "<div>\n",
       "<style scoped>\n",
       "    .dataframe tbody tr th:only-of-type {\n",
       "        vertical-align: middle;\n",
       "    }\n",
       "\n",
       "    .dataframe tbody tr th {\n",
       "        vertical-align: top;\n",
       "    }\n",
       "\n",
       "    .dataframe thead th {\n",
       "        text-align: right;\n",
       "    }\n",
       "</style>\n",
       "<table border=\"1\" class=\"dataframe\">\n",
       "  <thead>\n",
       "    <tr style=\"text-align: right;\">\n",
       "      <th></th>\n",
       "      <th>age</th>\n",
       "      <th>experience</th>\n",
       "      <th>income</th>\n",
       "    </tr>\n",
       "  </thead>\n",
       "  <tbody>\n",
       "    <tr>\n",
       "      <th>0</th>\n",
       "      <td>25</td>\n",
       "      <td>1</td>\n",
       "      <td>30450</td>\n",
       "    </tr>\n",
       "    <tr>\n",
       "      <th>1</th>\n",
       "      <td>30</td>\n",
       "      <td>3</td>\n",
       "      <td>35670</td>\n",
       "    </tr>\n",
       "    <tr>\n",
       "      <th>2</th>\n",
       "      <td>47</td>\n",
       "      <td>2</td>\n",
       "      <td>31580</td>\n",
       "    </tr>\n",
       "    <tr>\n",
       "      <th>3</th>\n",
       "      <td>32</td>\n",
       "      <td>5</td>\n",
       "      <td>40130</td>\n",
       "    </tr>\n",
       "    <tr>\n",
       "      <th>4</th>\n",
       "      <td>43</td>\n",
       "      <td>10</td>\n",
       "      <td>47830</td>\n",
       "    </tr>\n",
       "    <tr>\n",
       "      <th>5</th>\n",
       "      <td>51</td>\n",
       "      <td>7</td>\n",
       "      <td>41630</td>\n",
       "    </tr>\n",
       "    <tr>\n",
       "      <th>6</th>\n",
       "      <td>28</td>\n",
       "      <td>5</td>\n",
       "      <td>41340</td>\n",
       "    </tr>\n",
       "    <tr>\n",
       "      <th>7</th>\n",
       "      <td>33</td>\n",
       "      <td>4</td>\n",
       "      <td>37650</td>\n",
       "    </tr>\n",
       "    <tr>\n",
       "      <th>8</th>\n",
       "      <td>37</td>\n",
       "      <td>5</td>\n",
       "      <td>40250</td>\n",
       "    </tr>\n",
       "    <tr>\n",
       "      <th>9</th>\n",
       "      <td>39</td>\n",
       "      <td>8</td>\n",
       "      <td>45150</td>\n",
       "    </tr>\n",
       "    <tr>\n",
       "      <th>10</th>\n",
       "      <td>29</td>\n",
       "      <td>1</td>\n",
       "      <td>27840</td>\n",
       "    </tr>\n",
       "    <tr>\n",
       "      <th>11</th>\n",
       "      <td>47</td>\n",
       "      <td>9</td>\n",
       "      <td>46110</td>\n",
       "    </tr>\n",
       "    <tr>\n",
       "      <th>12</th>\n",
       "      <td>54</td>\n",
       "      <td>5</td>\n",
       "      <td>36720</td>\n",
       "    </tr>\n",
       "    <tr>\n",
       "      <th>13</th>\n",
       "      <td>51</td>\n",
       "      <td>4</td>\n",
       "      <td>34800</td>\n",
       "    </tr>\n",
       "    <tr>\n",
       "      <th>14</th>\n",
       "      <td>44</td>\n",
       "      <td>12</td>\n",
       "      <td>51300</td>\n",
       "    </tr>\n",
       "    <tr>\n",
       "      <th>15</th>\n",
       "      <td>41</td>\n",
       "      <td>6</td>\n",
       "      <td>38900</td>\n",
       "    </tr>\n",
       "    <tr>\n",
       "      <th>16</th>\n",
       "      <td>58</td>\n",
       "      <td>17</td>\n",
       "      <td>63600</td>\n",
       "    </tr>\n",
       "    <tr>\n",
       "      <th>17</th>\n",
       "      <td>23</td>\n",
       "      <td>1</td>\n",
       "      <td>30870</td>\n",
       "    </tr>\n",
       "    <tr>\n",
       "      <th>18</th>\n",
       "      <td>44</td>\n",
       "      <td>9</td>\n",
       "      <td>44190</td>\n",
       "    </tr>\n",
       "    <tr>\n",
       "      <th>19</th>\n",
       "      <td>37</td>\n",
       "      <td>10</td>\n",
       "      <td>48700</td>\n",
       "    </tr>\n",
       "  </tbody>\n",
       "</table>\n",
       "</div>"
      ],
      "text/plain": [
       "    age  experience  income\n",
       "0    25           1   30450\n",
       "1    30           3   35670\n",
       "2    47           2   31580\n",
       "3    32           5   40130\n",
       "4    43          10   47830\n",
       "5    51           7   41630\n",
       "6    28           5   41340\n",
       "7    33           4   37650\n",
       "8    37           5   40250\n",
       "9    39           8   45150\n",
       "10   29           1   27840\n",
       "11   47           9   46110\n",
       "12   54           5   36720\n",
       "13   51           4   34800\n",
       "14   44          12   51300\n",
       "15   41           6   38900\n",
       "16   58          17   63600\n",
       "17   23           1   30870\n",
       "18   44           9   44190\n",
       "19   37          10   48700"
      ]
     },
     "execution_count": 4,
     "metadata": {},
     "output_type": "execute_result"
    }
   ],
   "source": [
    "df"
   ]
  },
  {
   "cell_type": "code",
   "execution_count": 5,
   "id": "af7ec516",
   "metadata": {},
   "outputs": [
    {
     "data": {
      "text/html": [
       "<div>\n",
       "<style scoped>\n",
       "    .dataframe tbody tr th:only-of-type {\n",
       "        vertical-align: middle;\n",
       "    }\n",
       "\n",
       "    .dataframe tbody tr th {\n",
       "        vertical-align: top;\n",
       "    }\n",
       "\n",
       "    .dataframe thead th {\n",
       "        text-align: right;\n",
       "    }\n",
       "</style>\n",
       "<table border=\"1\" class=\"dataframe\">\n",
       "  <thead>\n",
       "    <tr style=\"text-align: right;\">\n",
       "      <th></th>\n",
       "      <th>age</th>\n",
       "      <th>experience</th>\n",
       "      <th>income</th>\n",
       "    </tr>\n",
       "  </thead>\n",
       "  <tbody>\n",
       "    <tr>\n",
       "      <th>0</th>\n",
       "      <td>25</td>\n",
       "      <td>1</td>\n",
       "      <td>30450</td>\n",
       "    </tr>\n",
       "    <tr>\n",
       "      <th>1</th>\n",
       "      <td>30</td>\n",
       "      <td>3</td>\n",
       "      <td>35670</td>\n",
       "    </tr>\n",
       "    <tr>\n",
       "      <th>2</th>\n",
       "      <td>47</td>\n",
       "      <td>2</td>\n",
       "      <td>31580</td>\n",
       "    </tr>\n",
       "  </tbody>\n",
       "</table>\n",
       "</div>"
      ],
      "text/plain": [
       "   age  experience  income\n",
       "0   25           1   30450\n",
       "1   30           3   35670\n",
       "2   47           2   31580"
      ]
     },
     "execution_count": 5,
     "metadata": {},
     "output_type": "execute_result"
    }
   ],
   "source": [
    "df.head(3)"
   ]
  },
  {
   "cell_type": "code",
   "execution_count": 6,
   "id": "6f108b8b",
   "metadata": {},
   "outputs": [
    {
     "name": "stderr",
     "output_type": "stream",
     "text": [
      "C:\\Users\\dell\\anaconda3\\Lib\\site-packages\\seaborn\\axisgrid.py:118: UserWarning: The figure layout has changed to tight\n",
      "  self._figure.tight_layout(*args, **kwargs)\n"
     ]
    },
    {
     "data": {
      "image/png": "[encoded data removed]",
      "text/plain": [
       "<Figure size 750x750 with 12 Axes>"
      ]
     },
     "metadata": {},
     "output_type": "display_data"
    }
   ],
   "source": [
    "sns.pairplot(data=df)\n",
    "plt.show()"
   ]
  },
  {
   "cell_type": "code",
   "execution_count": 7,
   "id": "b40e9ac3",
   "metadata": {},
   "outputs": [
    {
     "data": {
      "text/plain": [
       "age           0\n",
       "experience    0\n",
       "income        0\n",
       "dtype: int64"
      ]
     },
     "execution_count": 7,
     "metadata": {},
     "output_type": "execute_result"
    }
   ],
   "source": [
    "df.isnull().sum()"
   ]
  },
  {
   "cell_type": "code",
   "execution_count": null,
   "id": "c9adadee",
   "metadata": {},
   "outputs": [],
   "source": []
  },
  {
   "cell_type": "code",
   "execution_count": 8,
   "id": "05eb8655",
   "metadata": {},
   "outputs": [],
   "source": [
    "x = df.iloc[:,:-1]"
   ]
  },
  {
   "cell_type": "code",
   "execution_count": 9,
   "id": "d3c6406b",
   "metadata": {},
   "outputs": [
    {
     "data": {
      "text/html": [
       "<div>\n",
       "<style scoped>\n",
       "    .dataframe tbody tr th:only-of-type {\n",
       "        vertical-align: middle;\n",
       "    }\n",
       "\n",
       "    .dataframe tbody tr th {\n",
       "        vertical-align: top;\n",
       "    }\n",
       "\n",
       "    .dataframe thead th {\n",
       "        text-align: right;\n",
       "    }\n",
       "</style>\n",
       "<table border=\"1\" class=\"dataframe\">\n",
       "  <thead>\n",
       "    <tr style=\"text-align: right;\">\n",
       "      <th></th>\n",
       "      <th>age</th>\n",
       "      <th>experience</th>\n",
       "    </tr>\n",
       "  </thead>\n",
       "  <tbody>\n",
       "    <tr>\n",
       "      <th>0</th>\n",
       "      <td>25</td>\n",
       "      <td>1</td>\n",
       "    </tr>\n",
       "    <tr>\n",
       "      <th>1</th>\n",
       "      <td>30</td>\n",
       "      <td>3</td>\n",
       "    </tr>\n",
       "    <tr>\n",
       "      <th>2</th>\n",
       "      <td>47</td>\n",
       "      <td>2</td>\n",
       "    </tr>\n",
       "    <tr>\n",
       "      <th>3</th>\n",
       "      <td>32</td>\n",
       "      <td>5</td>\n",
       "    </tr>\n",
       "    <tr>\n",
       "      <th>4</th>\n",
       "      <td>43</td>\n",
       "      <td>10</td>\n",
       "    </tr>\n",
       "    <tr>\n",
       "      <th>5</th>\n",
       "      <td>51</td>\n",
       "      <td>7</td>\n",
       "    </tr>\n",
       "    <tr>\n",
       "      <th>6</th>\n",
       "      <td>28</td>\n",
       "      <td>5</td>\n",
       "    </tr>\n",
       "    <tr>\n",
       "      <th>7</th>\n",
       "      <td>33</td>\n",
       "      <td>4</td>\n",
       "    </tr>\n",
       "    <tr>\n",
       "      <th>8</th>\n",
       "      <td>37</td>\n",
       "      <td>5</td>\n",
       "    </tr>\n",
       "    <tr>\n",
       "      <th>9</th>\n",
       "      <td>39</td>\n",
       "      <td>8</td>\n",
       "    </tr>\n",
       "    <tr>\n",
       "      <th>10</th>\n",
       "      <td>29</td>\n",
       "      <td>1</td>\n",
       "    </tr>\n",
       "    <tr>\n",
       "      <th>11</th>\n",
       "      <td>47</td>\n",
       "      <td>9</td>\n",
       "    </tr>\n",
       "    <tr>\n",
       "      <th>12</th>\n",
       "      <td>54</td>\n",
       "      <td>5</td>\n",
       "    </tr>\n",
       "    <tr>\n",
       "      <th>13</th>\n",
       "      <td>51</td>\n",
       "      <td>4</td>\n",
       "    </tr>\n",
       "    <tr>\n",
       "      <th>14</th>\n",
       "      <td>44</td>\n",
       "      <td>12</td>\n",
       "    </tr>\n",
       "    <tr>\n",
       "      <th>15</th>\n",
       "      <td>41</td>\n",
       "      <td>6</td>\n",
       "    </tr>\n",
       "    <tr>\n",
       "      <th>16</th>\n",
       "      <td>58</td>\n",
       "      <td>17</td>\n",
       "    </tr>\n",
       "    <tr>\n",
       "      <th>17</th>\n",
       "      <td>23</td>\n",
       "      <td>1</td>\n",
       "    </tr>\n",
       "    <tr>\n",
       "      <th>18</th>\n",
       "      <td>44</td>\n",
       "      <td>9</td>\n",
       "    </tr>\n",
       "    <tr>\n",
       "      <th>19</th>\n",
       "      <td>37</td>\n",
       "      <td>10</td>\n",
       "    </tr>\n",
       "  </tbody>\n",
       "</table>\n",
       "</div>"
      ],
      "text/plain": [
       "    age  experience\n",
       "0    25           1\n",
       "1    30           3\n",
       "2    47           2\n",
       "3    32           5\n",
       "4    43          10\n",
       "5    51           7\n",
       "6    28           5\n",
       "7    33           4\n",
       "8    37           5\n",
       "9    39           8\n",
       "10   29           1\n",
       "11   47           9\n",
       "12   54           5\n",
       "13   51           4\n",
       "14   44          12\n",
       "15   41           6\n",
       "16   58          17\n",
       "17   23           1\n",
       "18   44           9\n",
       "19   37          10"
      ]
     },
     "execution_count": 9,
     "metadata": {},
     "output_type": "execute_result"
    }
   ],
   "source": [
    "x"
   ]
  },
  {
   "cell_type": "code",
   "execution_count": 10,
   "id": "58480835",
   "metadata": {},
   "outputs": [],
   "source": [
    "y = df[\"experience\"]"
   ]
  },
  {
   "cell_type": "code",
   "execution_count": null,
   "id": "2d8f839a",
   "metadata": {},
   "outputs": [],
   "source": []
  },
  {
   "cell_type": "code",
   "execution_count": 11,
   "id": "0f785c53",
   "metadata": {},
   "outputs": [],
   "source": [
    "from sklearn.model_selection import train_test_split"
   ]
  },
  {
   "cell_type": "code",
   "execution_count": 15,
   "id": "186c23f6",
   "metadata": {},
   "outputs": [],
   "source": [
    "x_train,x_test,y_train,y_test=train_test_split(x,y,test_size=0.2,random_state=42)"
   ]
  },
  {
   "cell_type": "code",
   "execution_count": null,
   "id": "a2420482",
   "metadata": {},
   "outputs": [],
   "source": []
  },
  {
   "cell_type": "code",
   "execution_count": 16,
   "id": "fba18c56",
   "metadata": {},
   "outputs": [],
   "source": [
    "from sklearn.tree import DecisionTreeRegressor,plot_tree"
   ]
  },
  {
   "cell_type": "code",
   "execution_count": 17,
   "id": "a7a369a7",
   "metadata": {},
   "outputs": [
    {
     "data": {
      "text/html": [
       "<style>#sk-container-id-1 {color: black;background-color: white;}#sk-container-id-1 pre{padding: 0;}#sk-container-id-1 div.sk-toggleable {background-color: white;}#sk-container-id-1 label.sk-toggleable__label {cursor: pointer;display: block;width: 100%;margin-bottom: 0;padding: 0.3em;box-sizing: border-box;text-align: center;}#sk-container-id-1 label.sk-toggleable__label-arrow:before {content: \"▸\";float: left;margin-right: 0.25em;color: #696969;}#sk-container-id-1 label.sk-toggleable__label-arrow:hover:before {color: black;}#sk-container-id-1 div.sk-estimator:hover label.sk-toggleable__label-arrow:before {color: black;}#sk-container-id-1 div.sk-toggleable__content {max-height: 0;max-width: 0;overflow: hidden;text-align: left;background-color: #f0f8ff;}#sk-container-id-1 div.sk-toggleable__content pre {margin: 0.2em;color: black;border-radius: 0.25em;background-color: #f0f8ff;}#sk-container-id-1 input.sk-toggleable__control:checked~div.sk-toggleable__content {max-height: 200px;max-width: 100%;overflow: auto;}#sk-container-id-1 input.sk-toggleable__control:checked~label.sk-toggleable__label-arrow:before {content: \"▾\";}#sk-container-id-1 div.sk-estimator input.sk-toggleable__control:checked~label.sk-toggleable__label {background-color: #d4ebff;}#sk-container-id-1 div.sk-label input.sk-toggleable__control:checked~label.sk-toggleable__label {background-color: #d4ebff;}#sk-container-id-1 input.sk-hidden--visually {border: 0;clip: rect(1px 1px 1px 1px);clip: rect(1px, 1px, 1px, 1px);height: 1px;margin: -1px;overflow: hidden;padding: 0;position: absolute;width: 1px;}#sk-container-id-1 div.sk-estimator {font-family: monospace;background-color: #f0f8ff;border: 1px dotted black;border-radius: 0.25em;box-sizing: border-box;margin-bottom: 0.5em;}#sk-container-id-1 div.sk-estimator:hover {background-color: #d4ebff;}#sk-container-id-1 div.sk-parallel-item::after {content: \"\";width: 100%;border-bottom: 1px solid gray;flex-grow: 1;}#sk-container-id-1 div.sk-label:hover label.sk-toggleable__label {background-color: #d4ebff;}#sk-container-id-1 div.sk-serial::before {content: \"\";position: absolute;border-left: 1px solid gray;box-sizing: border-box;top: 0;bottom: 0;left: 50%;z-index: 0;}#sk-container-id-1 div.sk-serial {display: flex;flex-direction: column;align-items: center;background-color: white;padding-right: 0.2em;padding-left: 0.2em;position: relative;}#sk-container-id-1 div.sk-item {position: relative;z-index: 1;}#sk-container-id-1 div.sk-parallel {display: flex;align-items: stretch;justify-content: center;background-color: white;position: relative;}#sk-container-id-1 div.sk-item::before, #sk-container-id-1 div.sk-parallel-item::before {content: \"\";position: absolute;border-left: 1px solid gray;box-sizing: border-box;top: 0;bottom: 0;left: 50%;z-index: -1;}#sk-container-id-1 div.sk-parallel-item {display: flex;flex-direction: column;z-index: 1;position: relative;background-color: white;}#sk-container-id-1 div.sk-parallel-item:first-child::after {align-self: flex-end;width: 50%;}#sk-container-id-1 div.sk-parallel-item:last-child::after {align-self: flex-start;width: 50%;}#sk-container-id-1 div.sk-parallel-item:only-child::after {width: 0;}#sk-container-id-1 div.sk-dashed-wrapped {border: 1px dashed gray;margin: 0 0.4em 0.5em 0.4em;box-sizing: border-box;padding-bottom: 0.4em;background-color: white;}#sk-container-id-1 div.sk-label label {font-family: monospace;font-weight: bold;display: inline-block;line-height: 1.2em;}#sk-container-id-1 div.sk-label-container {text-align: center;}#sk-container-id-1 div.sk-container {/* jupyter's `normalize.less` sets `[hidden] { display: none; }` but bootstrap.min.css set `[hidden] { display: none !important; }` so we also need the `!important` here to be able to override the default hidden behavior on the sphinx rendered scikit-learn.org. See: https://github.com/scikit-learn/scikit-learn/issues/21755 */display: inline-block !important;position: relative;}#sk-container-id-1 div.sk-text-repr-fallback {display: none;}</style><div id=\"sk-container-id-1\" class=\"sk-top-container\"><div class=\"sk-text-repr-fallback\"><pre>DecisionTreeRegressor()</pre><b>In a Jupyter environment, please rerun this cell to show the HTML representation or trust the notebook. <br />On GitHub, the HTML representation is unable to render, please try loading this page with nbviewer.org.</b></div><div class=\"sk-container\" hidden><div class=\"sk-item\"><div class=\"sk-estimator sk-toggleable\"><input class=\"sk-toggleable__control sk-hidden--visually\" id=\"sk-estimator-id-1\" type=\"checkbox\" checked><label for=\"sk-estimator-id-1\" class=\"sk-toggleable__label sk-toggleable__label-arrow\">DecisionTreeRegressor</label><div class=\"sk-toggleable__content\"><pre>DecisionTreeRegressor()</pre></div></div></div></div></div>"
      ],
      "text/plain": [
       "DecisionTreeRegressor()"
      ]
     },
     "execution_count": 17,
     "metadata": {},
     "output_type": "execute_result"
    }
   ],
   "source": [
    "dt = DecisionTreeRegressor()\n",
    "dt.fit(x_train,y_train)"
   ]
  },
  {
   "cell_type": "code",
   "execution_count": 18,
   "id": "e3fd6b84",
   "metadata": {},
   "outputs": [
    {
     "data": {
      "text/plain": [
       "70.1492537313433"
      ]
     },
     "execution_count": 18,
     "metadata": {},
     "output_type": "execute_result"
    }
   ],
   "source": [
    "dt.score(x_test,y_test)*100"
   ]
  },
  {
   "cell_type": "code",
   "execution_count": 19,
   "id": "d20b34c2",
   "metadata": {},
   "outputs": [
    {
     "data": {
      "text/plain": [
       "100.0"
      ]
     },
     "execution_count": 19,
     "metadata": {},
     "output_type": "execute_result"
    }
   ],
   "source": [
    "dt.score(x_train,y_train)*100"
   ]
  },
  {
   "cell_type": "code",
   "execution_count": null,
   "id": "f0eea1b6",
   "metadata": {},
   "outputs": [],
   "source": []
  },
  {
   "cell_type": "code",
   "execution_count": 20,
   "id": "cdfa788f",
   "metadata": {},
   "outputs": [
    {
     "data": {
      "image/png": "[encoded data removed]",
      "text/plain": [
       "<Figure size 640x480 with 1 Axes>"
      ]
     },
     "metadata": {},
     "output_type": "display_data"
    }
   ],
   "source": [
    "plot_tree(dt)\n",
    "plt.show()"
   ]
  },
  {
   "cell_type": "code",
   "execution_count": null,
   "id": "d76df908",
   "metadata": {},
   "outputs": [],
   "source": []
  },
  {
   "cell_type": "code",
   "execution_count": null,
   "id": "3c8c7896",
   "metadata": {},
   "outputs": [],
   "source": [
    "# K-NEAREST NEIGHBOURS(classification):\n",
    "# 1) K-NN algorithm can be used for regression as well as for classification but mostly it is used for the classification problems.\n",
    "# 2) K-NN is a non-parametric algorithm,which means it does not make any assumption on underlying data.\n",
    "# 3) It is also called a lazy learner algorithm."
   ]
  },
  {
   "cell_type": "code",
   "execution_count": null,
   "id": "5475fcdf",
   "metadata": {},
   "outputs": [],
   "source": [
    "# HOW DOES K-NN WORK\n",
    "#1) Manhattan Distance L1\n",
    "# FORMULA : L1 = |X2-X1|+|Y2-Y1|\n",
    "#2) Euclidean Distance L2\n",
    "# FORMULA : L2 = ROOT(X2-X1)^2 + (Y2-Y1)^2"
   ]
  },
  {
   "cell_type": "code",
   "execution_count": null,
   "id": "cdff6416",
   "metadata": {},
   "outputs": [],
   "source": [
    "# PRACTICAL :"
   ]
  },
  {
   "cell_type": "code",
   "execution_count": 21,
   "id": "658ad279",
   "metadata": {},
   "outputs": [],
   "source": [
    "import pandas as pd\n",
    "import matplotlib.pyplot as plt\n",
    "import seaborn as sns\n",
    "from mlxtend.plotting import plot_decision_regions"
   ]
  },
  {
   "cell_type": "code",
   "execution_count": 22,
   "id": "d7473e56",
   "metadata": {},
   "outputs": [],
   "source": [
    "df = pd.read_csv(\"Social_Network_Ads.csv\")"
   ]
  },
  {
   "cell_type": "code",
   "execution_count": 23,
   "id": "a109ba36",
   "metadata": {},
   "outputs": [
    {
     "data": {
      "text/html": [
       "<div>\n",
       "<style scoped>\n",
       "    .dataframe tbody tr th:only-of-type {\n",
       "        vertical-align: middle;\n",
       "    }\n",
       "\n",
       "    .dataframe tbody tr th {\n",
       "        vertical-align: top;\n",
       "    }\n",
       "\n",
       "    .dataframe thead th {\n",
       "        text-align: right;\n",
       "    }\n",
       "</style>\n",
       "<table border=\"1\" class=\"dataframe\">\n",
       "  <thead>\n",
       "    <tr style=\"text-align: right;\">\n",
       "      <th></th>\n",
       "      <th>Age</th>\n",
       "      <th>EstimatedSalary</th>\n",
       "      <th>Purchased</th>\n",
       "    </tr>\n",
       "  </thead>\n",
       "  <tbody>\n",
       "    <tr>\n",
       "      <th>0</th>\n",
       "      <td>19</td>\n",
       "      <td>19000</td>\n",
       "      <td>0</td>\n",
       "    </tr>\n",
       "    <tr>\n",
       "      <th>1</th>\n",
       "      <td>35</td>\n",
       "      <td>20000</td>\n",
       "      <td>0</td>\n",
       "    </tr>\n",
       "    <tr>\n",
       "      <th>2</th>\n",
       "      <td>26</td>\n",
       "      <td>43000</td>\n",
       "      <td>0</td>\n",
       "    </tr>\n",
       "    <tr>\n",
       "      <th>3</th>\n",
       "      <td>27</td>\n",
       "      <td>57000</td>\n",
       "      <td>0</td>\n",
       "    </tr>\n",
       "    <tr>\n",
       "      <th>4</th>\n",
       "      <td>19</td>\n",
       "      <td>76000</td>\n",
       "      <td>0</td>\n",
       "    </tr>\n",
       "    <tr>\n",
       "      <th>...</th>\n",
       "      <td>...</td>\n",
       "      <td>...</td>\n",
       "      <td>...</td>\n",
       "    </tr>\n",
       "    <tr>\n",
       "      <th>395</th>\n",
       "      <td>46</td>\n",
       "      <td>41000</td>\n",
       "      <td>1</td>\n",
       "    </tr>\n",
       "    <tr>\n",
       "      <th>396</th>\n",
       "      <td>51</td>\n",
       "      <td>23000</td>\n",
       "      <td>1</td>\n",
       "    </tr>\n",
       "    <tr>\n",
       "      <th>397</th>\n",
       "      <td>50</td>\n",
       "      <td>20000</td>\n",
       "      <td>1</td>\n",
       "    </tr>\n",
       "    <tr>\n",
       "      <th>398</th>\n",
       "      <td>36</td>\n",
       "      <td>33000</td>\n",
       "      <td>0</td>\n",
       "    </tr>\n",
       "    <tr>\n",
       "      <th>399</th>\n",
       "      <td>49</td>\n",
       "      <td>36000</td>\n",
       "      <td>1</td>\n",
       "    </tr>\n",
       "  </tbody>\n",
       "</table>\n",
       "<p>400 rows × 3 columns</p>\n",
       "</div>"
      ],
      "text/plain": [
       "     Age  EstimatedSalary  Purchased\n",
       "0     19            19000          0\n",
       "1     35            20000          0\n",
       "2     26            43000          0\n",
       "3     27            57000          0\n",
       "4     19            76000          0\n",
       "..   ...              ...        ...\n",
       "395   46            41000          1\n",
       "396   51            23000          1\n",
       "397   50            20000          1\n",
       "398   36            33000          0\n",
       "399   49            36000          1\n",
       "\n",
       "[400 rows x 3 columns]"
      ]
     },
     "execution_count": 23,
     "metadata": {},
     "output_type": "execute_result"
    }
   ],
   "source": [
    "df"
   ]
  },
  {
   "cell_type": "code",
   "execution_count": 24,
   "id": "36ecaecc",
   "metadata": {},
   "outputs": [
    {
     "data": {
      "text/html": [
       "<div>\n",
       "<style scoped>\n",
       "    .dataframe tbody tr th:only-of-type {\n",
       "        vertical-align: middle;\n",
       "    }\n",
       "\n",
       "    .dataframe tbody tr th {\n",
       "        vertical-align: top;\n",
       "    }\n",
       "\n",
       "    .dataframe thead th {\n",
       "        text-align: right;\n",
       "    }\n",
       "</style>\n",
       "<table border=\"1\" class=\"dataframe\">\n",
       "  <thead>\n",
       "    <tr style=\"text-align: right;\">\n",
       "      <th></th>\n",
       "      <th>Age</th>\n",
       "      <th>EstimatedSalary</th>\n",
       "      <th>Purchased</th>\n",
       "    </tr>\n",
       "  </thead>\n",
       "  <tbody>\n",
       "    <tr>\n",
       "      <th>0</th>\n",
       "      <td>19</td>\n",
       "      <td>19000</td>\n",
       "      <td>0</td>\n",
       "    </tr>\n",
       "    <tr>\n",
       "      <th>1</th>\n",
       "      <td>35</td>\n",
       "      <td>20000</td>\n",
       "      <td>0</td>\n",
       "    </tr>\n",
       "    <tr>\n",
       "      <th>2</th>\n",
       "      <td>26</td>\n",
       "      <td>43000</td>\n",
       "      <td>0</td>\n",
       "    </tr>\n",
       "  </tbody>\n",
       "</table>\n",
       "</div>"
      ],
      "text/plain": [
       "   Age  EstimatedSalary  Purchased\n",
       "0   19            19000          0\n",
       "1   35            20000          0\n",
       "2   26            43000          0"
      ]
     },
     "execution_count": 24,
     "metadata": {},
     "output_type": "execute_result"
    }
   ],
   "source": [
    "df.head(3)"
   ]
  },
  {
   "cell_type": "code",
   "execution_count": 25,
   "id": "787ae770",
   "metadata": {},
   "outputs": [
    {
     "data": {
      "image/png": "[encoded data removed]",
      "text/plain": [
       "<Figure size 640x480 with 1 Axes>"
      ]
     },
     "metadata": {},
     "output_type": "display_data"
    }
   ],
   "source": [
    "sns.scatterplot(x=\"Age\",y=\"EstimatedSalary\",data=df,hue=\"Purchased\")\n",
    "plt.show()"
   ]
  },
  {
   "cell_type": "code",
   "execution_count": 26,
   "id": "dc8ce226",
   "metadata": {},
   "outputs": [
    {
     "data": {
      "text/plain": [
       "Age                0\n",
       "EstimatedSalary    0\n",
       "Purchased          0\n",
       "dtype: int64"
      ]
     },
     "execution_count": 26,
     "metadata": {},
     "output_type": "execute_result"
    }
   ],
   "source": [
    "df.isnull().sum()"
   ]
  },
  {
   "cell_type": "code",
   "execution_count": 27,
   "id": "71d03a11",
   "metadata": {},
   "outputs": [],
   "source": [
    "x = df.iloc[:,:-1]"
   ]
  },
  {
   "cell_type": "code",
   "execution_count": 28,
   "id": "a8d8d7f1",
   "metadata": {},
   "outputs": [
    {
     "data": {
      "text/html": [
       "<div>\n",
       "<style scoped>\n",
       "    .dataframe tbody tr th:only-of-type {\n",
       "        vertical-align: middle;\n",
       "    }\n",
       "\n",
       "    .dataframe tbody tr th {\n",
       "        vertical-align: top;\n",
       "    }\n",
       "\n",
       "    .dataframe thead th {\n",
       "        text-align: right;\n",
       "    }\n",
       "</style>\n",
       "<table border=\"1\" class=\"dataframe\">\n",
       "  <thead>\n",
       "    <tr style=\"text-align: right;\">\n",
       "      <th></th>\n",
       "      <th>Age</th>\n",
       "      <th>EstimatedSalary</th>\n",
       "    </tr>\n",
       "  </thead>\n",
       "  <tbody>\n",
       "    <tr>\n",
       "      <th>0</th>\n",
       "      <td>19</td>\n",
       "      <td>19000</td>\n",
       "    </tr>\n",
       "    <tr>\n",
       "      <th>1</th>\n",
       "      <td>35</td>\n",
       "      <td>20000</td>\n",
       "    </tr>\n",
       "    <tr>\n",
       "      <th>2</th>\n",
       "      <td>26</td>\n",
       "      <td>43000</td>\n",
       "    </tr>\n",
       "    <tr>\n",
       "      <th>3</th>\n",
       "      <td>27</td>\n",
       "      <td>57000</td>\n",
       "    </tr>\n",
       "    <tr>\n",
       "      <th>4</th>\n",
       "      <td>19</td>\n",
       "      <td>76000</td>\n",
       "    </tr>\n",
       "    <tr>\n",
       "      <th>...</th>\n",
       "      <td>...</td>\n",
       "      <td>...</td>\n",
       "    </tr>\n",
       "    <tr>\n",
       "      <th>395</th>\n",
       "      <td>46</td>\n",
       "      <td>41000</td>\n",
       "    </tr>\n",
       "    <tr>\n",
       "      <th>396</th>\n",
       "      <td>51</td>\n",
       "      <td>23000</td>\n",
       "    </tr>\n",
       "    <tr>\n",
       "      <th>397</th>\n",
       "      <td>50</td>\n",
       "      <td>20000</td>\n",
       "    </tr>\n",
       "    <tr>\n",
       "      <th>398</th>\n",
       "      <td>36</td>\n",
       "      <td>33000</td>\n",
       "    </tr>\n",
       "    <tr>\n",
       "      <th>399</th>\n",
       "      <td>49</td>\n",
       "      <td>36000</td>\n",
       "    </tr>\n",
       "  </tbody>\n",
       "</table>\n",
       "<p>400 rows × 2 columns</p>\n",
       "</div>"
      ],
      "text/plain": [
       "     Age  EstimatedSalary\n",
       "0     19            19000\n",
       "1     35            20000\n",
       "2     26            43000\n",
       "3     27            57000\n",
       "4     19            76000\n",
       "..   ...              ...\n",
       "395   46            41000\n",
       "396   51            23000\n",
       "397   50            20000\n",
       "398   36            33000\n",
       "399   49            36000\n",
       "\n",
       "[400 rows x 2 columns]"
      ]
     },
     "execution_count": 28,
     "metadata": {},
     "output_type": "execute_result"
    }
   ],
   "source": [
    "x"
   ]
  },
  {
   "cell_type": "code",
   "execution_count": null,
   "id": "10b5a43a",
   "metadata": {},
   "outputs": [],
   "source": []
  },
  {
   "cell_type": "code",
   "execution_count": 29,
   "id": "f307e4be",
   "metadata": {},
   "outputs": [],
   "source": [
    "y = df[\"Purchased\"]"
   ]
  },
  {
   "cell_type": "code",
   "execution_count": 30,
   "id": "71515a02",
   "metadata": {},
   "outputs": [
    {
     "data": {
      "text/plain": [
       "0      0\n",
       "1      0\n",
       "2      0\n",
       "3      0\n",
       "4      0\n",
       "      ..\n",
       "395    1\n",
       "396    1\n",
       "397    1\n",
       "398    0\n",
       "399    1\n",
       "Name: Purchased, Length: 400, dtype: int64"
      ]
     },
     "execution_count": 30,
     "metadata": {},
     "output_type": "execute_result"
    }
   ],
   "source": [
    "y"
   ]
  },
  {
   "cell_type": "code",
   "execution_count": null,
   "id": "84ff8a20",
   "metadata": {},
   "outputs": [],
   "source": []
  },
  {
   "cell_type": "code",
   "execution_count": 31,
   "id": "7eee23cc",
   "metadata": {},
   "outputs": [],
   "source": [
    "from sklearn.preprocessing import StandardScaler"
   ]
  },
  {
   "cell_type": "code",
   "execution_count": 32,
   "id": "ecd8722d",
   "metadata": {},
   "outputs": [
    {
     "data": {
      "text/html": [
       "<style>#sk-container-id-2 {color: black;background-color: white;}#sk-container-id-2 pre{padding: 0;}#sk-container-id-2 div.sk-toggleable {background-color: white;}#sk-container-id-2 label.sk-toggleable__label {cursor: pointer;display: block;width: 100%;margin-bottom: 0;padding: 0.3em;box-sizing: border-box;text-align: center;}#sk-container-id-2 label.sk-toggleable__label-arrow:before {content: \"▸\";float: left;margin-right: 0.25em;color: #696969;}#sk-container-id-2 label.sk-toggleable__label-arrow:hover:before {color: black;}#sk-container-id-2 div.sk-estimator:hover label.sk-toggleable__label-arrow:before {color: black;}#sk-container-id-2 div.sk-toggleable__content {max-height: 0;max-width: 0;overflow: hidden;text-align: left;background-color: #f0f8ff;}#sk-container-id-2 div.sk-toggleable__content pre {margin: 0.2em;color: black;border-radius: 0.25em;background-color: #f0f8ff;}#sk-container-id-2 input.sk-toggleable__control:checked~div.sk-toggleable__content {max-height: 200px;max-width: 100%;overflow: auto;}#sk-container-id-2 input.sk-toggleable__control:checked~label.sk-toggleable__label-arrow:before {content: \"▾\";}#sk-container-id-2 div.sk-estimator input.sk-toggleable__control:checked~label.sk-toggleable__label {background-color: #d4ebff;}#sk-container-id-2 div.sk-label input.sk-toggleable__control:checked~label.sk-toggleable__label {background-color: #d4ebff;}#sk-container-id-2 input.sk-hidden--visually {border: 0;clip: rect(1px 1px 1px 1px);clip: rect(1px, 1px, 1px, 1px);height: 1px;margin: -1px;overflow: hidden;padding: 0;position: absolute;width: 1px;}#sk-container-id-2 div.sk-estimator {font-family: monospace;background-color: #f0f8ff;border: 1px dotted black;border-radius: 0.25em;box-sizing: border-box;margin-bottom: 0.5em;}#sk-container-id-2 div.sk-estimator:hover {background-color: #d4ebff;}#sk-container-id-2 div.sk-parallel-item::after {content: \"\";width: 100%;border-bottom: 1px solid gray;flex-grow: 1;}#sk-container-id-2 div.sk-label:hover label.sk-toggleable__label {background-color: #d4ebff;}#sk-container-id-2 div.sk-serial::before {content: \"\";position: absolute;border-left: 1px solid gray;box-sizing: border-box;top: 0;bottom: 0;left: 50%;z-index: 0;}#sk-container-id-2 div.sk-serial {display: flex;flex-direction: column;align-items: center;background-color: white;padding-right: 0.2em;padding-left: 0.2em;position: relative;}#sk-container-id-2 div.sk-item {position: relative;z-index: 1;}#sk-container-id-2 div.sk-parallel {display: flex;align-items: stretch;justify-content: center;background-color: white;position: relative;}#sk-container-id-2 div.sk-item::before, #sk-container-id-2 div.sk-parallel-item::before {content: \"\";position: absolute;border-left: 1px solid gray;box-sizing: border-box;top: 0;bottom: 0;left: 50%;z-index: -1;}#sk-container-id-2 div.sk-parallel-item {display: flex;flex-direction: column;z-index: 1;position: relative;background-color: white;}#sk-container-id-2 div.sk-parallel-item:first-child::after {align-self: flex-end;width: 50%;}#sk-container-id-2 div.sk-parallel-item:last-child::after {align-self: flex-start;width: 50%;}#sk-container-id-2 div.sk-parallel-item:only-child::after {width: 0;}#sk-container-id-2 div.sk-dashed-wrapped {border: 1px dashed gray;margin: 0 0.4em 0.5em 0.4em;box-sizing: border-box;padding-bottom: 0.4em;background-color: white;}#sk-container-id-2 div.sk-label label {font-family: monospace;font-weight: bold;display: inline-block;line-height: 1.2em;}#sk-container-id-2 div.sk-label-container {text-align: center;}#sk-container-id-2 div.sk-container {/* jupyter's `normalize.less` sets `[hidden] { display: none; }` but bootstrap.min.css set `[hidden] { display: none !important; }` so we also need the `!important` here to be able to override the default hidden behavior on the sphinx rendered scikit-learn.org. See: https://github.com/scikit-learn/scikit-learn/issues/21755 */display: inline-block !important;position: relative;}#sk-container-id-2 div.sk-text-repr-fallback {display: none;}</style><div id=\"sk-container-id-2\" class=\"sk-top-container\"><div class=\"sk-text-repr-fallback\"><pre>StandardScaler()</pre><b>In a Jupyter environment, please rerun this cell to show the HTML representation or trust the notebook. <br />On GitHub, the HTML representation is unable to render, please try loading this page with nbviewer.org.</b></div><div class=\"sk-container\" hidden><div class=\"sk-item\"><div class=\"sk-estimator sk-toggleable\"><input class=\"sk-toggleable__control sk-hidden--visually\" id=\"sk-estimator-id-2\" type=\"checkbox\" checked><label for=\"sk-estimator-id-2\" class=\"sk-toggleable__label sk-toggleable__label-arrow\">StandardScaler</label><div class=\"sk-toggleable__content\"><pre>StandardScaler()</pre></div></div></div></div></div>"
      ],
      "text/plain": [
       "StandardScaler()"
      ]
     },
     "execution_count": 32,
     "metadata": {},
     "output_type": "execute_result"
    }
   ],
   "source": [
    "sc = StandardScaler()\n",
    "sc.fit(x)"
   ]
  },
  {
   "cell_type": "code",
   "execution_count": 33,
   "id": "d41454f0",
   "metadata": {},
   "outputs": [
    {
     "data": {
      "text/plain": [
       "array([[-1.78179743, -1.49004624],\n",
       "       [-0.25358736, -1.46068138],\n",
       "       [-1.11320552, -0.78528968],\n",
       "       [-1.01769239, -0.37418169],\n",
       "       [-1.78179743,  0.18375059],\n",
       "       [-1.01769239, -0.34481683],\n",
       "       [-1.01769239,  0.41866944],\n",
       "       [-0.54012675,  2.35674998],\n",
       "       [-1.20871865, -1.07893824],\n",
       "       [-0.25358736, -0.13926283],\n",
       "       [-1.11320552,  0.30121002],\n",
       "       [-1.11320552, -0.52100597],\n",
       "       [-1.6862843 ,  0.47739916],\n",
       "       [-0.54012675, -1.51941109],\n",
       "       [-1.87731056,  0.35993973],\n",
       "       [-0.82666613,  0.30121002],\n",
       "       [ 0.89257019, -1.3138571 ],\n",
       "       [ 0.70154394, -1.28449224],\n",
       "       [ 0.79705706, -1.22576253],\n",
       "       [ 0.98808332, -1.19639767],\n",
       "       [ 0.70154394, -1.40195167],\n",
       "       [ 0.89257019, -0.60910054],\n",
       "       [ 0.98808332, -0.84401939],\n",
       "       [ 0.70154394, -1.40195167],\n",
       "       [ 0.79705706, -1.37258681],\n",
       "       [ 0.89257019, -1.46068138],\n",
       "       [ 1.08359645, -1.22576253],\n",
       "       [ 0.89257019, -1.16703281],\n",
       "       [-0.82666613, -0.78528968],\n",
       "       [-0.63563988, -1.51941109],\n",
       "       [-0.63563988,  0.12502088],\n",
       "       [-1.01769239,  1.97500684],\n",
       "       [-1.59077117, -1.5781408 ],\n",
       "       [-0.92217926, -0.75592482],\n",
       "       [-1.01769239,  0.59485858],\n",
       "       [-0.25358736, -1.25512738],\n",
       "       [-0.44461362, -1.22576253],\n",
       "       [-0.73115301, -0.60910054],\n",
       "       [-1.11320552,  0.06629116],\n",
       "       [-1.01769239, -1.13766796],\n",
       "       [-1.01769239, -1.54877595],\n",
       "       [-0.44461362, -0.55037082],\n",
       "       [-0.25358736,  1.123426  ],\n",
       "       [-0.73115301, -1.60750566],\n",
       "       [-0.92217926,  0.41866944],\n",
       "       [-1.39974491, -1.46068138],\n",
       "       [-1.20871865,  0.27184516],\n",
       "       [-1.01769239, -0.46227625],\n",
       "       [-0.73115301,  1.91627713],\n",
       "       [-0.63563988,  0.56549373],\n",
       "       [-1.30423178, -1.1083031 ],\n",
       "       [-1.87731056, -0.75592482],\n",
       "       [-0.82666613,  0.38930459],\n",
       "       [-0.25358736, -1.37258681],\n",
       "       [-1.01769239, -0.34481683],\n",
       "       [-1.30423178, -0.4329114 ],\n",
       "       [-1.39974491, -0.63846539],\n",
       "       [-0.92217926,  0.27184516],\n",
       "       [-1.49525804, -1.51941109],\n",
       "       [-0.54012675,  1.38770971],\n",
       "       [-1.01769239, -1.46068138],\n",
       "       [-1.20871865,  0.50676401],\n",
       "       [-1.39974491, -0.10989798],\n",
       "       [-0.54012675,  1.47580428],\n",
       "       [ 2.03872775,  0.38930459],\n",
       "       [-1.30423178, -0.34481683],\n",
       "       [-1.30423178, -1.49004624],\n",
       "       [-1.39974491,  0.35993973],\n",
       "       [-1.49525804, -0.19799255],\n",
       "       [-0.63563988, -0.05116826],\n",
       "       [-1.20871865,  0.30121002],\n",
       "       [-1.30423178, -1.25512738],\n",
       "       [-1.6862843 , -1.37258681],\n",
       "       [-0.44461362,  1.27025028],\n",
       "       [-0.54012675, -1.51941109],\n",
       "       [-0.34910049,  1.24088543],\n",
       "       [-1.87731056, -0.52100597],\n",
       "       [-1.49525804, -1.25512738],\n",
       "       [-0.92217926,  0.50676401],\n",
       "       [-1.11320552, -1.54877595],\n",
       "       [-0.73115301,  0.30121002],\n",
       "       [ 0.12846516, -0.81465453],\n",
       "       [-1.6862843 , -0.60910054],\n",
       "       [-0.25358736,  0.53612887],\n",
       "       [-0.73115301, -0.2273574 ],\n",
       "       [-0.63563988,  1.41707457],\n",
       "       [-1.30423178, -0.4329114 ],\n",
       "       [-0.92217926,  0.4480343 ],\n",
       "       [-1.11320552,  0.33057487],\n",
       "       [-0.25358736, -0.57973568],\n",
       "       [-1.49525804,  0.33057487],\n",
       "       [-0.73115301,  1.35834485],\n",
       "       [-1.11320552, -1.60750566],\n",
       "       [-0.82666613, -1.22576253],\n",
       "       [-0.82666613,  0.38930459],\n",
       "       [-0.25358736, -0.75592482],\n",
       "       [-0.25358736, -1.3138571 ],\n",
       "       [-0.92217926,  1.56389885],\n",
       "       [-0.25358736,  0.09565602],\n",
       "       [-0.92217926, -0.96147882],\n",
       "       [-1.01769239,  0.53612887],\n",
       "       [-0.92217926, -0.31545197],\n",
       "       [-0.54012675,  0.47739916],\n",
       "       [-0.44461362,  2.32738512],\n",
       "       [-1.78179743, -1.43131652],\n",
       "       [-1.59077117,  0.06629116],\n",
       "       [-1.11320552, -1.02020853],\n",
       "       [-1.01769239,  0.56549373],\n",
       "       [-1.11320552,  0.47739916],\n",
       "       [ 0.03295203,  0.30121002],\n",
       "       [ 0.12846516,  0.03692631],\n",
       "       [-0.0625611 ,  0.03692631],\n",
       "       [ 0.03295203, -0.25672226],\n",
       "       [-0.0625611 , -0.4329114 ],\n",
       "       [ 0.41500455,  0.30121002],\n",
       "       [ 0.22397829, -0.37418169],\n",
       "       [-0.25358736,  0.15438573],\n",
       "       [-0.15807423, -0.52100597],\n",
       "       [ 0.22397829, -0.31545197],\n",
       "       [ 0.31949142, -0.31545197],\n",
       "       [-0.15807423,  0.15438573],\n",
       "       [-0.0625611 ,  0.06629116],\n",
       "       [ 0.22397829,  0.15438573],\n",
       "       [-0.25358736, -0.49164111],\n",
       "       [ 0.31949142, -0.55037082],\n",
       "       [ 0.12846516, -0.25672226],\n",
       "       [ 0.41500455, -0.13926283],\n",
       "       [-1.11320552, -1.1083031 ],\n",
       "       [-0.73115301, -1.54877595],\n",
       "       [-1.11320552,  0.41866944],\n",
       "       [-0.63563988, -0.34481683],\n",
       "       [-0.44461362, -1.13766796],\n",
       "       [-0.73115301,  0.50676401],\n",
       "       [-1.59077117, -0.05116826],\n",
       "       [-0.92217926, -0.4329114 ],\n",
       "       [-1.39974491, -0.19799255],\n",
       "       [-1.6862843 ,  0.35993973],\n",
       "       [-0.73115301,  1.09406114],\n",
       "       [-0.92217926, -0.31545197],\n",
       "       [-1.78179743, -1.3138571 ],\n",
       "       [-1.78179743,  0.4480343 ],\n",
       "       [-1.87731056, -0.05116826],\n",
       "       [-0.25358736, -0.31545197],\n",
       "       [-0.73115301,  0.56549373],\n",
       "       [-0.34910049, -1.3138571 ],\n",
       "       [-1.30423178,  0.56549373],\n",
       "       [-1.01769239,  0.77104772],\n",
       "       [ 0.31949142, -1.16703281],\n",
       "       [-0.82666613, -0.25672226],\n",
       "       [-1.6862843 ,  0.12502088],\n",
       "       [-1.11320552, -1.60750566],\n",
       "       [ 0.31949142, -0.72655996],\n",
       "       [-0.63563988,  0.18375059],\n",
       "       [-0.15807423, -0.57973568],\n",
       "       [ 0.22397829, -0.66783025],\n",
       "       [-0.63563988, -1.60750566],\n",
       "       [ 0.79705706, -0.31545197],\n",
       "       [-0.82666613,  0.15438573],\n",
       "       [-1.11320552, -1.16703281],\n",
       "       [-0.54012675,  1.91627713],\n",
       "       [-0.54012675,  0.88850715],\n",
       "       [-1.20871865,  0.59485858],\n",
       "       [-0.0625611 , -1.07893824],\n",
       "       [-0.25358736, -0.93211396],\n",
       "       [-0.44461362, -0.02180341],\n",
       "       [-1.87731056,  0.47739916],\n",
       "       [-1.49525804, -0.4329114 ],\n",
       "       [-0.25358736,  0.03692631],\n",
       "       [-0.82666613,  2.29802026],\n",
       "       [-0.82666613, -0.66783025],\n",
       "       [-1.59077117,  0.53612887],\n",
       "       [-0.34910049,  1.32898   ],\n",
       "       [-1.11320552,  1.41707457],\n",
       "       [-0.34910049, -0.78528968],\n",
       "       [-0.34910049,  0.06629116],\n",
       "       [-1.39974491, -1.22576253],\n",
       "       [-0.25358736, -0.66783025],\n",
       "       [-1.20871865, -1.40195167],\n",
       "       [-1.30423178, -1.37258681],\n",
       "       [-0.63563988, -1.04957339],\n",
       "       [-1.11320552, -1.5781408 ],\n",
       "       [-0.63563988,  0.03692631],\n",
       "       [-0.54012675,  1.38770971],\n",
       "       [-0.44461362, -0.78528968],\n",
       "       [-0.44461362, -0.28608712],\n",
       "       [-0.63563988, -0.10989798],\n",
       "       [-1.6862843 ,  0.35993973],\n",
       "       [-0.44461362, -0.84401939],\n",
       "       [-0.25358736,  0.06629116],\n",
       "       [-0.92217926, -1.1083031 ],\n",
       "       [-1.30423178,  0.41866944],\n",
       "       [-1.78179743, -1.28449224],\n",
       "       [-0.82666613, -0.78528968],\n",
       "       [-1.78179743,  0.00756145],\n",
       "       [-0.92217926,  0.56549373],\n",
       "       [-0.34910049, -0.78528968],\n",
       "       [-0.73115301,  0.27184516],\n",
       "       [-1.6862843 , -0.99084367],\n",
       "       [-1.11320552,  0.30121002],\n",
       "       [-0.25358736, -1.40195167],\n",
       "       [-0.25358736, -0.9027491 ],\n",
       "       [ 1.08359645,  0.12502088],\n",
       "       [ 0.12846516,  1.88691227],\n",
       "       [ 0.31949142,  0.03692631],\n",
       "       [ 1.94321462,  0.917872  ],\n",
       "       [ 0.89257019, -0.66783025],\n",
       "       [ 1.65667523,  1.76945285],\n",
       "       [ 1.37013584,  1.29961514],\n",
       "       [ 0.22397829,  2.12183112],\n",
       "       [ 0.79705706, -1.40195167],\n",
       "       [ 0.98808332,  0.77104772],\n",
       "       [ 1.37013584,  2.35674998],\n",
       "       [ 2.03872775, -0.81465453],\n",
       "       [-0.25358736, -0.34481683],\n",
       "       [ 0.89257019, -0.78528968],\n",
       "       [ 2.13424088,  1.123426  ],\n",
       "       [ 1.08359645, -0.13926283],\n",
       "       [ 0.22397829,  0.2424803 ],\n",
       "       [ 0.79705706,  0.77104772],\n",
       "       [ 2.03872775,  2.15119598],\n",
       "       [ 0.31949142,  0.30121002],\n",
       "       [-0.25358736,  0.62422344],\n",
       "       [-0.0625611 ,  2.18056084],\n",
       "       [ 2.13424088,  0.94723686],\n",
       "       [-0.25358736, -0.28608712],\n",
       "       [-0.0625611 , -0.49164111],\n",
       "       [-0.15807423,  1.65199342],\n",
       "       [ 1.75218836,  1.85754742],\n",
       "       [ 0.22397829,  0.06629116],\n",
       "       [ 0.41500455,  0.30121002],\n",
       "       [-0.25358736,  2.26865541],\n",
       "       [ 0.12846516, -0.81465453],\n",
       "       [ 0.22397829,  1.09406114],\n",
       "       [ 1.08359645,  0.47739916],\n",
       "       [ 0.03295203,  1.24088543],\n",
       "       [ 0.79705706,  0.27184516],\n",
       "       [ 0.22397829, -0.37418169],\n",
       "       [-0.0625611 ,  0.30121002],\n",
       "       [ 0.79705706,  0.35993973],\n",
       "       [ 1.46564897,  2.15119598],\n",
       "       [ 0.41500455,  2.32738512],\n",
       "       [ 0.03295203, -0.31545197],\n",
       "       [ 1.17910958,  0.53612887],\n",
       "       [ 1.75218836,  1.00596657],\n",
       "       [ 0.31949142,  0.06629116],\n",
       "       [ 1.27462271,  2.23929055],\n",
       "       [-0.25358736, -0.57973568],\n",
       "       [ 1.84770149,  1.53453399],\n",
       "       [ 0.31949142, -0.52100597],\n",
       "       [-0.25358736,  0.80041258],\n",
       "       [ 0.60603081, -0.9027491 ],\n",
       "       [-0.0625611 , -0.52100597],\n",
       "       [ 0.98808332,  1.88691227],\n",
       "       [-0.0625611 ,  2.23929055],\n",
       "       [ 1.17910958, -0.75592482],\n",
       "       [ 1.37013584,  0.59485858],\n",
       "       [ 0.31949142,  0.06629116],\n",
       "       [ 0.22397829, -0.37418169],\n",
       "       [ 1.94321462,  0.74168287],\n",
       "       [ 0.70154394,  1.7988177 ],\n",
       "       [-0.25358736,  0.21311545],\n",
       "       [-0.15807423,  2.18056084],\n",
       "       [ 1.65667523,  1.62262856],\n",
       "       [-0.25358736,  0.06629116],\n",
       "       [ 0.98808332,  0.59485858],\n",
       "       [ 0.41500455,  1.123426  ],\n",
       "       [ 0.22397829,  0.15438573],\n",
       "       [-0.0625611 ,  0.12502088],\n",
       "       [ 0.89257019,  2.18056084],\n",
       "       [ 0.22397829, -0.25672226],\n",
       "       [ 0.51051768,  1.85754742],\n",
       "       [ 2.03872775,  0.18375059],\n",
       "       [ 2.13424088, -0.81465453],\n",
       "       [ 0.12846516,  1.06469629],\n",
       "       [ 1.84770149, -1.28449224],\n",
       "       [ 1.84770149,  0.12502088],\n",
       "       [ 0.03295203,  0.03692631],\n",
       "       [ 1.08359645,  0.53612887],\n",
       "       [ 1.37013584, -0.93211396],\n",
       "       [ 1.17910958, -0.99084367],\n",
       "       [ 2.03872775,  0.53612887],\n",
       "       [-0.25358736, -0.25672226],\n",
       "       [-0.0625611 ,  0.00756145],\n",
       "       [ 1.37013584, -1.43131652],\n",
       "       [ 0.98808332,  2.09246627],\n",
       "       [-0.0625611 ,  0.68295315],\n",
       "       [-0.0625611 , -0.2273574 ],\n",
       "       [ 0.98808332,  2.0043717 ],\n",
       "       [ 0.31949142,  0.27184516],\n",
       "       [-0.0625611 ,  0.2424803 ],\n",
       "       [ 0.12846516,  1.88691227],\n",
       "       [ 1.08359645,  0.56549373],\n",
       "       [ 1.65667523, -0.9027491 ],\n",
       "       [-0.0625611 ,  0.21311545],\n",
       "       [-0.25358736, -0.37418169],\n",
       "       [-0.15807423, -0.19799255],\n",
       "       [ 0.41500455,  0.09565602],\n",
       "       [ 0.51051768,  1.24088543],\n",
       "       [ 0.70154394,  0.27184516],\n",
       "       [ 0.79705706,  1.38770971],\n",
       "       [ 1.94321462, -0.93211396],\n",
       "       [ 0.98808332,  0.12502088],\n",
       "       [-0.0625611 ,  1.97500684],\n",
       "       [-0.0625611 ,  0.27184516],\n",
       "       [ 0.22397829, -0.28608712],\n",
       "       [ 0.41500455, -0.46227625],\n",
       "       [ 1.27462271,  1.88691227],\n",
       "       [ 0.89257019,  1.27025028],\n",
       "       [-0.15807423,  1.62262856],\n",
       "       [ 0.03295203, -0.57973568],\n",
       "       [ 0.41500455,  0.00756145],\n",
       "       [ 0.12846516,  0.77104772],\n",
       "       [ 0.03295203, -0.57973568],\n",
       "       [ 1.08359645,  2.09246627],\n",
       "       [ 0.12846516,  0.27184516],\n",
       "       [ 0.12846516,  0.15438573],\n",
       "       [ 1.5611621 ,  1.00596657],\n",
       "       [-0.25358736, -0.4329114 ],\n",
       "       [ 0.70154394, -1.1083031 ],\n",
       "       [-0.15807423, -0.28608712],\n",
       "       [ 1.37013584,  2.0043717 ],\n",
       "       [ 1.46564897,  0.35993973],\n",
       "       [ 0.31949142, -0.52100597],\n",
       "       [ 0.98808332, -1.16703281],\n",
       "       [ 0.98808332,  1.7988177 ],\n",
       "       [ 0.31949142, -0.28608712],\n",
       "       [ 0.31949142,  0.06629116],\n",
       "       [ 0.41500455,  0.15438573],\n",
       "       [-0.15807423,  1.41707457],\n",
       "       [ 0.89257019,  1.09406114],\n",
       "       [ 0.03295203, -0.55037082],\n",
       "       [ 0.98808332,  1.44643942],\n",
       "       [ 0.41500455, -0.13926283],\n",
       "       [ 0.22397829, -0.13926283],\n",
       "       [ 1.84770149, -0.28608712],\n",
       "       [-0.15807423, -0.46227625],\n",
       "       [ 1.94321462,  2.18056084],\n",
       "       [-0.25358736,  0.27184516],\n",
       "       [ 0.03295203, -0.4329114 ],\n",
       "       [ 0.12846516,  1.53453399],\n",
       "       [ 1.46564897,  1.00596657],\n",
       "       [-0.25358736,  0.15438573],\n",
       "       [ 0.03295203, -0.13926283],\n",
       "       [ 0.89257019, -0.55037082],\n",
       "       [ 0.89257019,  1.03533143],\n",
       "       [ 0.31949142, -0.19799255],\n",
       "       [ 1.46564897,  0.06629116],\n",
       "       [ 1.5611621 ,  1.123426  ],\n",
       "       [ 0.12846516,  0.21311545],\n",
       "       [ 0.03295203, -0.25672226],\n",
       "       [ 0.03295203,  1.27025028],\n",
       "       [-0.0625611 ,  0.15438573],\n",
       "       [ 0.41500455,  0.59485858],\n",
       "       [-0.0625611 , -0.37418169],\n",
       "       [-0.15807423,  0.85914229],\n",
       "       [ 2.13424088, -1.04957339],\n",
       "       [ 1.5611621 ,  0.00756145],\n",
       "       [ 0.31949142,  0.06629116],\n",
       "       [ 0.22397829,  0.03692631],\n",
       "       [ 0.41500455, -0.46227625],\n",
       "       [ 0.51051768,  1.74008799],\n",
       "       [ 1.46564897, -1.04957339],\n",
       "       [ 0.89257019, -0.57973568],\n",
       "       [ 0.41500455,  0.27184516],\n",
       "       [ 0.41500455,  1.00596657],\n",
       "       [ 2.03872775, -1.19639767],\n",
       "       [ 1.94321462, -0.66783025],\n",
       "       [ 0.79705706,  0.53612887],\n",
       "       [ 0.03295203,  0.03692631],\n",
       "       [ 1.5611621 , -1.28449224],\n",
       "       [ 2.13424088, -0.69719511],\n",
       "       [ 2.13424088,  0.38930459],\n",
       "       [ 0.12846516,  0.09565602],\n",
       "       [ 2.03872775,  1.76945285],\n",
       "       [-0.0625611 ,  0.30121002],\n",
       "       [ 0.79705706, -1.1083031 ],\n",
       "       [ 0.79705706,  0.12502088],\n",
       "       [ 0.41500455, -0.49164111],\n",
       "       [ 0.31949142,  0.50676401],\n",
       "       [ 1.94321462, -1.37258681],\n",
       "       [ 0.41500455, -0.16862769],\n",
       "       [ 0.98808332, -1.07893824],\n",
       "       [ 0.60603081,  2.03373655],\n",
       "       [ 1.08359645, -1.22576253],\n",
       "       [ 1.84770149, -1.07893824],\n",
       "       [ 1.75218836, -0.28608712],\n",
       "       [ 1.08359645, -0.9027491 ],\n",
       "       [ 0.12846516,  0.03692631],\n",
       "       [ 0.89257019, -1.04957339],\n",
       "       [ 0.98808332, -1.02020853],\n",
       "       [ 0.98808332, -1.07893824],\n",
       "       [ 0.89257019, -1.37258681],\n",
       "       [ 0.70154394, -0.72655996],\n",
       "       [ 2.13424088, -0.81465453],\n",
       "       [ 0.12846516, -0.31545197],\n",
       "       [ 0.79705706, -0.84401939],\n",
       "       [ 1.27462271, -1.37258681],\n",
       "       [ 1.17910958, -1.46068138],\n",
       "       [-0.15807423, -1.07893824],\n",
       "       [ 1.08359645, -0.99084367]])"
      ]
     },
     "execution_count": 33,
     "metadata": {},
     "output_type": "execute_result"
    }
   ],
   "source": [
    "sc.transform(x)"
   ]
  },
  {
   "cell_type": "code",
   "execution_count": 34,
   "id": "83ab7839",
   "metadata": {},
   "outputs": [],
   "source": [
    "x = pd.DataFrame(sc.transform(x),columns=x.columns)"
   ]
  },
  {
   "cell_type": "code",
   "execution_count": null,
   "id": "b275cc8b",
   "metadata": {},
   "outputs": [],
   "source": []
  },
  {
   "cell_type": "code",
   "execution_count": 35,
   "id": "3efce6c9",
   "metadata": {},
   "outputs": [],
   "source": [
    "from sklearn.model_selection import train_test_split"
   ]
  },
  {
   "cell_type": "code",
   "execution_count": 36,
   "id": "8ccf47b1",
   "metadata": {},
   "outputs": [],
   "source": [
    "x_train,x_test,y_train,y_test=train_test_split(x,y,test_size=0.2,random_state=42)"
   ]
  },
  {
   "cell_type": "code",
   "execution_count": null,
   "id": "fd99e70d",
   "metadata": {},
   "outputs": [],
   "source": []
  },
  {
   "cell_type": "code",
   "execution_count": 37,
   "id": "45ab0646",
   "metadata": {},
   "outputs": [],
   "source": [
    "from sklearn.neighbors import KNeighborsClassifier"
   ]
  },
  {
   "cell_type": "code",
   "execution_count": 38,
   "id": "df6f04cd",
   "metadata": {},
   "outputs": [
    {
     "data": {
      "text/html": [
       "<style>#sk-container-id-3 {color: black;background-color: white;}#sk-container-id-3 pre{padding: 0;}#sk-container-id-3 div.sk-toggleable {background-color: white;}#sk-container-id-3 label.sk-toggleable__label {cursor: pointer;display: block;width: 100%;margin-bottom: 0;padding: 0.3em;box-sizing: border-box;text-align: center;}#sk-container-id-3 label.sk-toggleable__label-arrow:before {content: \"▸\";float: left;margin-right: 0.25em;color: #696969;}#sk-container-id-3 label.sk-toggleable__label-arrow:hover:before {color: black;}#sk-container-id-3 div.sk-estimator:hover label.sk-toggleable__label-arrow:before {color: black;}#sk-container-id-3 div.sk-toggleable__content {max-height: 0;max-width: 0;overflow: hidden;text-align: left;background-color: #f0f8ff;}#sk-container-id-3 div.sk-toggleable__content pre {margin: 0.2em;color: black;border-radius: 0.25em;background-color: #f0f8ff;}#sk-container-id-3 input.sk-toggleable__control:checked~div.sk-toggleable__content {max-height: 200px;max-width: 100%;overflow: auto;}#sk-container-id-3 input.sk-toggleable__control:checked~label.sk-toggleable__label-arrow:before {content: \"▾\";}#sk-container-id-3 div.sk-estimator input.sk-toggleable__control:checked~label.sk-toggleable__label {background-color: #d4ebff;}#sk-container-id-3 div.sk-label input.sk-toggleable__control:checked~label.sk-toggleable__label {background-color: #d4ebff;}#sk-container-id-3 input.sk-hidden--visually {border: 0;clip: rect(1px 1px 1px 1px);clip: rect(1px, 1px, 1px, 1px);height: 1px;margin: -1px;overflow: hidden;padding: 0;position: absolute;width: 1px;}#sk-container-id-3 div.sk-estimator {font-family: monospace;background-color: #f0f8ff;border: 1px dotted black;border-radius: 0.25em;box-sizing: border-box;margin-bottom: 0.5em;}#sk-container-id-3 div.sk-estimator:hover {background-color: #d4ebff;}#sk-container-id-3 div.sk-parallel-item::after {content: \"\";width: 100%;border-bottom: 1px solid gray;flex-grow: 1;}#sk-container-id-3 div.sk-label:hover label.sk-toggleable__label {background-color: #d4ebff;}#sk-container-id-3 div.sk-serial::before {content: \"\";position: absolute;border-left: 1px solid gray;box-sizing: border-box;top: 0;bottom: 0;left: 50%;z-index: 0;}#sk-container-id-3 div.sk-serial {display: flex;flex-direction: column;align-items: center;background-color: white;padding-right: 0.2em;padding-left: 0.2em;position: relative;}#sk-container-id-3 div.sk-item {position: relative;z-index: 1;}#sk-container-id-3 div.sk-parallel {display: flex;align-items: stretch;justify-content: center;background-color: white;position: relative;}#sk-container-id-3 div.sk-item::before, #sk-container-id-3 div.sk-parallel-item::before {content: \"\";position: absolute;border-left: 1px solid gray;box-sizing: border-box;top: 0;bottom: 0;left: 50%;z-index: -1;}#sk-container-id-3 div.sk-parallel-item {display: flex;flex-direction: column;z-index: 1;position: relative;background-color: white;}#sk-container-id-3 div.sk-parallel-item:first-child::after {align-self: flex-end;width: 50%;}#sk-container-id-3 div.sk-parallel-item:last-child::after {align-self: flex-start;width: 50%;}#sk-container-id-3 div.sk-parallel-item:only-child::after {width: 0;}#sk-container-id-3 div.sk-dashed-wrapped {border: 1px dashed gray;margin: 0 0.4em 0.5em 0.4em;box-sizing: border-box;padding-bottom: 0.4em;background-color: white;}#sk-container-id-3 div.sk-label label {font-family: monospace;font-weight: bold;display: inline-block;line-height: 1.2em;}#sk-container-id-3 div.sk-label-container {text-align: center;}#sk-container-id-3 div.sk-container {/* jupyter's `normalize.less` sets `[hidden] { display: none; }` but bootstrap.min.css set `[hidden] { display: none !important; }` so we also need the `!important` here to be able to override the default hidden behavior on the sphinx rendered scikit-learn.org. See: https://github.com/scikit-learn/scikit-learn/issues/21755 */display: inline-block !important;position: relative;}#sk-container-id-3 div.sk-text-repr-fallback {display: none;}</style><div id=\"sk-container-id-3\" class=\"sk-top-container\"><div class=\"sk-text-repr-fallback\"><pre>KNeighborsClassifier(n_neighbors=3)</pre><b>In a Jupyter environment, please rerun this cell to show the HTML representation or trust the notebook. <br />On GitHub, the HTML representation is unable to render, please try loading this page with nbviewer.org.</b></div><div class=\"sk-container\" hidden><div class=\"sk-item\"><div class=\"sk-estimator sk-toggleable\"><input class=\"sk-toggleable__control sk-hidden--visually\" id=\"sk-estimator-id-3\" type=\"checkbox\" checked><label for=\"sk-estimator-id-3\" class=\"sk-toggleable__label sk-toggleable__label-arrow\">KNeighborsClassifier</label><div class=\"sk-toggleable__content\"><pre>KNeighborsClassifier(n_neighbors=3)</pre></div></div></div></div></div>"
      ],
      "text/plain": [
       "KNeighborsClassifier(n_neighbors=3)"
      ]
     },
     "execution_count": 38,
     "metadata": {},
     "output_type": "execute_result"
    }
   ],
   "source": [
    "knn = KNeighborsClassifier(n_neighbors = 3)\n",
    "knn.fit(x_train,y_train)"
   ]
  },
  {
   "cell_type": "code",
   "execution_count": 39,
   "id": "7990add9",
   "metadata": {},
   "outputs": [
    {
     "data": {
      "text/plain": [
       "91.25"
      ]
     },
     "execution_count": 39,
     "metadata": {},
     "output_type": "execute_result"
    }
   ],
   "source": [
    "knn.score(x_test,y_test)*100"
   ]
  },
  {
   "cell_type": "code",
   "execution_count": 40,
   "id": "c4a2b352",
   "metadata": {},
   "outputs": [
    {
     "data": {
      "text/plain": [
       "92.5"
      ]
     },
     "execution_count": 40,
     "metadata": {},
     "output_type": "execute_result"
    }
   ],
   "source": [
    "knn.score(x_train,y_train)*100"
   ]
  },
  {
   "cell_type": "code",
   "execution_count": null,
   "id": "0cf63e0d",
   "metadata": {},
   "outputs": [],
   "source": []
  },
  {
   "cell_type": "code",
   "execution_count": 41,
   "id": "33f20ae8",
   "metadata": {},
   "outputs": [
    {
     "name": "stdout",
     "output_type": "stream",
     "text": [
      "1 99.6875 85.0\n",
      "2 91.5625 86.25\n",
      "3 92.5 91.25\n",
      "4 91.875 92.5\n",
      "5 90.9375 92.5\n",
      "6 90.9375 90.0\n",
      "7 91.875 93.75\n",
      "8 90.625 92.5\n",
      "9 91.25 93.75\n",
      "10 90.625 92.5\n",
      "11 90.9375 92.5\n",
      "12 91.25 92.5\n",
      "13 91.5625 92.5\n",
      "14 90.625 92.5\n",
      "15 90.625 92.5\n",
      "16 90.0 92.5\n",
      "17 90.625 92.5\n",
      "18 90.0 92.5\n",
      "19 90.9375 92.5\n",
      "20 90.0 93.75\n",
      "21 90.3125 92.5\n",
      "22 90.0 93.75\n",
      "23 90.3125 93.75\n",
      "24 89.375 93.75\n",
      "25 90.0 93.75\n",
      "26 89.375 93.75\n",
      "27 89.375 92.5\n",
      "28 88.75 93.75\n",
      "29 88.75 93.75\n"
     ]
    }
   ],
   "source": [
    "for i in range(1,30):\n",
    "    knn1 = KNeighborsClassifier(n_neighbors=i)\n",
    "    knn1.fit(x_train,y_train)\n",
    "    print(i,knn1.score(x_train,y_train)*100,knn1.score(x_test,y_test)*100)"
   ]
  },
  {
   "cell_type": "code",
   "execution_count": 42,
   "id": "4dd28aae",
   "metadata": {},
   "outputs": [
    {
     "name": "stderr",
     "output_type": "stream",
     "text": [
      "C:\\Users\\dell\\anaconda3\\Lib\\site-packages\\sklearn\\base.py:439: UserWarning: X does not have valid feature names, but KNeighborsClassifier was fitted with feature names\n",
      "  warnings.warn(\n"
     ]
    },
    {
     "data": {
      "text/plain": [
       "array([0], dtype=int64)"
      ]
     },
     "execution_count": 42,
     "metadata": {},
     "output_type": "execute_result"
    }
   ],
   "source": [
    "knn.predict([[-1.781797,-1.490046]])"
   ]
  },
  {
   "cell_type": "code",
   "execution_count": null,
   "id": "380612a8",
   "metadata": {},
   "outputs": [],
   "source": []
  },
  {
   "cell_type": "code",
   "execution_count": 43,
   "id": "7feda09b",
   "metadata": {},
   "outputs": [
    {
     "data": {
      "text/plain": [
       "(          Age  EstimatedSalary\n",
       " 0   -1.781797        -1.490046\n",
       " 1   -0.253587        -1.460681\n",
       " 2   -1.113206        -0.785290\n",
       " 3   -1.017692        -0.374182\n",
       " 4   -1.781797         0.183751\n",
       " ..        ...              ...\n",
       " 395  0.797057        -0.844019\n",
       " 396  1.274623        -1.372587\n",
       " 397  1.179110        -1.460681\n",
       " 398 -0.158074        -1.078938\n",
       " 399  1.083596        -0.990844\n",
       " \n",
       " [400 rows x 2 columns],\n",
       " 0      0\n",
       " 1      0\n",
       " 2      0\n",
       " 3      0\n",
       " 4      0\n",
       "       ..\n",
       " 395    1\n",
       " 396    1\n",
       " 397    1\n",
       " 398    0\n",
       " 399    1\n",
       " Name: Purchased, Length: 400, dtype: int64)"
      ]
     },
     "execution_count": 43,
     "metadata": {},
     "output_type": "execute_result"
    }
   ],
   "source": [
    "x,y"
   ]
  },
  {
   "cell_type": "code",
   "execution_count": 44,
   "id": "ac94c042",
   "metadata": {},
   "outputs": [
    {
     "name": "stderr",
     "output_type": "stream",
     "text": [
      "C:\\Users\\dell\\anaconda3\\Lib\\site-packages\\sklearn\\base.py:439: UserWarning: X does not have valid feature names, but KNeighborsClassifier was fitted with feature names\n",
      "  warnings.warn(\n"
     ]
    },
    {
     "data": {
      "text/plain": [
       "array([1], dtype=int64)"
      ]
     },
     "execution_count": 44,
     "metadata": {},
     "output_type": "execute_result"
    }
   ],
   "source": [
    "knn.predict([[1.083596,-0.990844]])"
   ]
  },
  {
   "cell_type": "code",
   "execution_count": null,
   "id": "791a2c2a",
   "metadata": {},
   "outputs": [],
   "source": []
  },
  {
   "cell_type": "code",
   "execution_count": 47,
   "id": "ab7cdafd",
   "metadata": {},
   "outputs": [
    {
     "name": "stderr",
     "output_type": "stream",
     "text": [
      "C:\\Users\\dell\\anaconda3\\Lib\\site-packages\\sklearn\\base.py:439: UserWarning: X does not have valid feature names, but KNeighborsClassifier was fitted with feature names\n",
      "  warnings.warn(\n"
     ]
    },
    {
     "data": {
      "image/png": "[encoded data removed]",
      "text/plain": [
       "<Figure size 640x480 with 1 Axes>"
      ]
     },
     "metadata": {},
     "output_type": "display_data"
    }
   ],
   "source": [
    "plot_decision_regions(x.to_numpy(),y.to_numpy(),clf=knn)\n",
    "plt.show()"
   ]
  },
  {
   "cell_type": "code",
   "execution_count": null,
   "id": "a52f9f0c",
   "metadata": {},
   "outputs": [],
   "source": []
  },
  {
   "cell_type": "code",
   "execution_count": null,
   "id": "0b8fb649",
   "metadata": {},
   "outputs": [],
   "source": [
    "# K-NEAREST-NEIGHBOURS (REGRESSION):"
   ]
  },
  {
   "cell_type": "code",
   "execution_count": 49,
   "id": "b849066c",
   "metadata": {},
   "outputs": [],
   "source": [
    "df = pd.read_csv(\"multiple_linear_regression_dataset.csv\")"
   ]
  },
  {
   "cell_type": "code",
   "execution_count": 50,
   "id": "5fb3d0c8",
   "metadata": {},
   "outputs": [
    {
     "data": {
      "text/html": [
       "<div>\n",
       "<style scoped>\n",
       "    .dataframe tbody tr th:only-of-type {\n",
       "        vertical-align: middle;\n",
       "    }\n",
       "\n",
       "    .dataframe tbody tr th {\n",
       "        vertical-align: top;\n",
       "    }\n",
       "\n",
       "    .dataframe thead th {\n",
       "        text-align: right;\n",
       "    }\n",
       "</style>\n",
       "<table border=\"1\" class=\"dataframe\">\n",
       "  <thead>\n",
       "    <tr style=\"text-align: right;\">\n",
       "      <th></th>\n",
       "      <th>age</th>\n",
       "      <th>experience</th>\n",
       "      <th>income</th>\n",
       "    </tr>\n",
       "  </thead>\n",
       "  <tbody>\n",
       "    <tr>\n",
       "      <th>0</th>\n",
       "      <td>25</td>\n",
       "      <td>1</td>\n",
       "      <td>30450</td>\n",
       "    </tr>\n",
       "    <tr>\n",
       "      <th>1</th>\n",
       "      <td>30</td>\n",
       "      <td>3</td>\n",
       "      <td>35670</td>\n",
       "    </tr>\n",
       "    <tr>\n",
       "      <th>2</th>\n",
       "      <td>47</td>\n",
       "      <td>2</td>\n",
       "      <td>31580</td>\n",
       "    </tr>\n",
       "    <tr>\n",
       "      <th>3</th>\n",
       "      <td>32</td>\n",
       "      <td>5</td>\n",
       "      <td>40130</td>\n",
       "    </tr>\n",
       "    <tr>\n",
       "      <th>4</th>\n",
       "      <td>43</td>\n",
       "      <td>10</td>\n",
       "      <td>47830</td>\n",
       "    </tr>\n",
       "    <tr>\n",
       "      <th>5</th>\n",
       "      <td>51</td>\n",
       "      <td>7</td>\n",
       "      <td>41630</td>\n",
       "    </tr>\n",
       "    <tr>\n",
       "      <th>6</th>\n",
       "      <td>28</td>\n",
       "      <td>5</td>\n",
       "      <td>41340</td>\n",
       "    </tr>\n",
       "    <tr>\n",
       "      <th>7</th>\n",
       "      <td>33</td>\n",
       "      <td>4</td>\n",
       "      <td>37650</td>\n",
       "    </tr>\n",
       "    <tr>\n",
       "      <th>8</th>\n",
       "      <td>37</td>\n",
       "      <td>5</td>\n",
       "      <td>40250</td>\n",
       "    </tr>\n",
       "    <tr>\n",
       "      <th>9</th>\n",
       "      <td>39</td>\n",
       "      <td>8</td>\n",
       "      <td>45150</td>\n",
       "    </tr>\n",
       "    <tr>\n",
       "      <th>10</th>\n",
       "      <td>29</td>\n",
       "      <td>1</td>\n",
       "      <td>27840</td>\n",
       "    </tr>\n",
       "    <tr>\n",
       "      <th>11</th>\n",
       "      <td>47</td>\n",
       "      <td>9</td>\n",
       "      <td>46110</td>\n",
       "    </tr>\n",
       "    <tr>\n",
       "      <th>12</th>\n",
       "      <td>54</td>\n",
       "      <td>5</td>\n",
       "      <td>36720</td>\n",
       "    </tr>\n",
       "    <tr>\n",
       "      <th>13</th>\n",
       "      <td>51</td>\n",
       "      <td>4</td>\n",
       "      <td>34800</td>\n",
       "    </tr>\n",
       "    <tr>\n",
       "      <th>14</th>\n",
       "      <td>44</td>\n",
       "      <td>12</td>\n",
       "      <td>51300</td>\n",
       "    </tr>\n",
       "    <tr>\n",
       "      <th>15</th>\n",
       "      <td>41</td>\n",
       "      <td>6</td>\n",
       "      <td>38900</td>\n",
       "    </tr>\n",
       "    <tr>\n",
       "      <th>16</th>\n",
       "      <td>58</td>\n",
       "      <td>17</td>\n",
       "      <td>63600</td>\n",
       "    </tr>\n",
       "    <tr>\n",
       "      <th>17</th>\n",
       "      <td>23</td>\n",
       "      <td>1</td>\n",
       "      <td>30870</td>\n",
       "    </tr>\n",
       "    <tr>\n",
       "      <th>18</th>\n",
       "      <td>44</td>\n",
       "      <td>9</td>\n",
       "      <td>44190</td>\n",
       "    </tr>\n",
       "    <tr>\n",
       "      <th>19</th>\n",
       "      <td>37</td>\n",
       "      <td>10</td>\n",
       "      <td>48700</td>\n",
       "    </tr>\n",
       "  </tbody>\n",
       "</table>\n",
       "</div>"
      ],
      "text/plain": [
       "    age  experience  income\n",
       "0    25           1   30450\n",
       "1    30           3   35670\n",
       "2    47           2   31580\n",
       "3    32           5   40130\n",
       "4    43          10   47830\n",
       "5    51           7   41630\n",
       "6    28           5   41340\n",
       "7    33           4   37650\n",
       "8    37           5   40250\n",
       "9    39           8   45150\n",
       "10   29           1   27840\n",
       "11   47           9   46110\n",
       "12   54           5   36720\n",
       "13   51           4   34800\n",
       "14   44          12   51300\n",
       "15   41           6   38900\n",
       "16   58          17   63600\n",
       "17   23           1   30870\n",
       "18   44           9   44190\n",
       "19   37          10   48700"
      ]
     },
     "execution_count": 50,
     "metadata": {},
     "output_type": "execute_result"
    }
   ],
   "source": [
    "df"
   ]
  },
  {
   "cell_type": "code",
   "execution_count": 51,
   "id": "a9a0f33e",
   "metadata": {},
   "outputs": [
    {
     "data": {
      "text/html": [
       "<div>\n",
       "<style scoped>\n",
       "    .dataframe tbody tr th:only-of-type {\n",
       "        vertical-align: middle;\n",
       "    }\n",
       "\n",
       "    .dataframe tbody tr th {\n",
       "        vertical-align: top;\n",
       "    }\n",
       "\n",
       "    .dataframe thead th {\n",
       "        text-align: right;\n",
       "    }\n",
       "</style>\n",
       "<table border=\"1\" class=\"dataframe\">\n",
       "  <thead>\n",
       "    <tr style=\"text-align: right;\">\n",
       "      <th></th>\n",
       "      <th>age</th>\n",
       "      <th>experience</th>\n",
       "      <th>income</th>\n",
       "    </tr>\n",
       "  </thead>\n",
       "  <tbody>\n",
       "    <tr>\n",
       "      <th>0</th>\n",
       "      <td>25</td>\n",
       "      <td>1</td>\n",
       "      <td>30450</td>\n",
       "    </tr>\n",
       "    <tr>\n",
       "      <th>1</th>\n",
       "      <td>30</td>\n",
       "      <td>3</td>\n",
       "      <td>35670</td>\n",
       "    </tr>\n",
       "    <tr>\n",
       "      <th>2</th>\n",
       "      <td>47</td>\n",
       "      <td>2</td>\n",
       "      <td>31580</td>\n",
       "    </tr>\n",
       "  </tbody>\n",
       "</table>\n",
       "</div>"
      ],
      "text/plain": [
       "   age  experience  income\n",
       "0   25           1   30450\n",
       "1   30           3   35670\n",
       "2   47           2   31580"
      ]
     },
     "execution_count": 51,
     "metadata": {},
     "output_type": "execute_result"
    }
   ],
   "source": [
    "df.head(3)"
   ]
  },
  {
   "cell_type": "code",
   "execution_count": 52,
   "id": "9eaab1d3",
   "metadata": {},
   "outputs": [
    {
     "data": {
      "text/plain": [
       "age           0\n",
       "experience    0\n",
       "income        0\n",
       "dtype: int64"
      ]
     },
     "execution_count": 52,
     "metadata": {},
     "output_type": "execute_result"
    }
   ],
   "source": [
    "df.isnull().sum()"
   ]
  },
  {
   "cell_type": "code",
   "execution_count": 53,
   "id": "79ad5063",
   "metadata": {},
   "outputs": [],
   "source": [
    "x = df.drop(columns=\"income\")\n",
    "y = df[\"income\"]"
   ]
  },
  {
   "cell_type": "code",
   "execution_count": null,
   "id": "38007b44",
   "metadata": {},
   "outputs": [],
   "source": []
  },
  {
   "cell_type": "code",
   "execution_count": 54,
   "id": "6279b140",
   "metadata": {},
   "outputs": [],
   "source": [
    "from sklearn.model_selection import train_test_split"
   ]
  },
  {
   "cell_type": "code",
   "execution_count": 55,
   "id": "2cefe601",
   "metadata": {},
   "outputs": [],
   "source": [
    "x_train,x_test,y_train,y_test = train_test_split(x,y,test_size=0.2,random_state=42)"
   ]
  },
  {
   "cell_type": "code",
   "execution_count": null,
   "id": "d9aa35b0",
   "metadata": {},
   "outputs": [],
   "source": []
  },
  {
   "cell_type": "code",
   "execution_count": 56,
   "id": "5aefaf19",
   "metadata": {},
   "outputs": [],
   "source": [
    "from sklearn.neighbors import KNeighborsRegressor"
   ]
  },
  {
   "cell_type": "code",
   "execution_count": 67,
   "id": "1da526b5",
   "metadata": {},
   "outputs": [
    {
     "data": {
      "text/html": [
       "<style>#sk-container-id-9 {color: black;background-color: white;}#sk-container-id-9 pre{padding: 0;}#sk-container-id-9 div.sk-toggleable {background-color: white;}#sk-container-id-9 label.sk-toggleable__label {cursor: pointer;display: block;width: 100%;margin-bottom: 0;padding: 0.3em;box-sizing: border-box;text-align: center;}#sk-container-id-9 label.sk-toggleable__label-arrow:before {content: \"▸\";float: left;margin-right: 0.25em;color: #696969;}#sk-container-id-9 label.sk-toggleable__label-arrow:hover:before {color: black;}#sk-container-id-9 div.sk-estimator:hover label.sk-toggleable__label-arrow:before {color: black;}#sk-container-id-9 div.sk-toggleable__content {max-height: 0;max-width: 0;overflow: hidden;text-align: left;background-color: #f0f8ff;}#sk-container-id-9 div.sk-toggleable__content pre {margin: 0.2em;color: black;border-radius: 0.25em;background-color: #f0f8ff;}#sk-container-id-9 input.sk-toggleable__control:checked~div.sk-toggleable__content {max-height: 200px;max-width: 100%;overflow: auto;}#sk-container-id-9 input.sk-toggleable__control:checked~label.sk-toggleable__label-arrow:before {content: \"▾\";}#sk-container-id-9 div.sk-estimator input.sk-toggleable__control:checked~label.sk-toggleable__label {background-color: #d4ebff;}#sk-container-id-9 div.sk-label input.sk-toggleable__control:checked~label.sk-toggleable__label {background-color: #d4ebff;}#sk-container-id-9 input.sk-hidden--visually {border: 0;clip: rect(1px 1px 1px 1px);clip: rect(1px, 1px, 1px, 1px);height: 1px;margin: -1px;overflow: hidden;padding: 0;position: absolute;width: 1px;}#sk-container-id-9 div.sk-estimator {font-family: monospace;background-color: #f0f8ff;border: 1px dotted black;border-radius: 0.25em;box-sizing: border-box;margin-bottom: 0.5em;}#sk-container-id-9 div.sk-estimator:hover {background-color: #d4ebff;}#sk-container-id-9 div.sk-parallel-item::after {content: \"\";width: 100%;border-bottom: 1px solid gray;flex-grow: 1;}#sk-container-id-9 div.sk-label:hover label.sk-toggleable__label {background-color: #d4ebff;}#sk-container-id-9 div.sk-serial::before {content: \"\";position: absolute;border-left: 1px solid gray;box-sizing: border-box;top: 0;bottom: 0;left: 50%;z-index: 0;}#sk-container-id-9 div.sk-serial {display: flex;flex-direction: column;align-items: center;background-color: white;padding-right: 0.2em;padding-left: 0.2em;position: relative;}#sk-container-id-9 div.sk-item {position: relative;z-index: 1;}#sk-container-id-9 div.sk-parallel {display: flex;align-items: stretch;justify-content: center;background-color: white;position: relative;}#sk-container-id-9 div.sk-item::before, #sk-container-id-9 div.sk-parallel-item::before {content: \"\";position: absolute;border-left: 1px solid gray;box-sizing: border-box;top: 0;bottom: 0;left: 50%;z-index: -1;}#sk-container-id-9 div.sk-parallel-item {display: flex;flex-direction: column;z-index: 1;position: relative;background-color: white;}#sk-container-id-9 div.sk-parallel-item:first-child::after {align-self: flex-end;width: 50%;}#sk-container-id-9 div.sk-parallel-item:last-child::after {align-self: flex-start;width: 50%;}#sk-container-id-9 div.sk-parallel-item:only-child::after {width: 0;}#sk-container-id-9 div.sk-dashed-wrapped {border: 1px dashed gray;margin: 0 0.4em 0.5em 0.4em;box-sizing: border-box;padding-bottom: 0.4em;background-color: white;}#sk-container-id-9 div.sk-label label {font-family: monospace;font-weight: bold;display: inline-block;line-height: 1.2em;}#sk-container-id-9 div.sk-label-container {text-align: center;}#sk-container-id-9 div.sk-container {/* jupyter's `normalize.less` sets `[hidden] { display: none; }` but bootstrap.min.css set `[hidden] { display: none !important; }` so we also need the `!important` here to be able to override the default hidden behavior on the sphinx rendered scikit-learn.org. See: https://github.com/scikit-learn/scikit-learn/issues/21755 */display: inline-block !important;position: relative;}#sk-container-id-9 div.sk-text-repr-fallback {display: none;}</style><div id=\"sk-container-id-9\" class=\"sk-top-container\"><div class=\"sk-text-repr-fallback\"><pre>KNeighborsRegressor(n_neighbors=3)</pre><b>In a Jupyter environment, please rerun this cell to show the HTML representation or trust the notebook. <br />On GitHub, the HTML representation is unable to render, please try loading this page with nbviewer.org.</b></div><div class=\"sk-container\" hidden><div class=\"sk-item\"><div class=\"sk-estimator sk-toggleable\"><input class=\"sk-toggleable__control sk-hidden--visually\" id=\"sk-estimator-id-9\" type=\"checkbox\" checked><label for=\"sk-estimator-id-9\" class=\"sk-toggleable__label sk-toggleable__label-arrow\">KNeighborsRegressor</label><div class=\"sk-toggleable__content\"><pre>KNeighborsRegressor(n_neighbors=3)</pre></div></div></div></div></div>"
      ],
      "text/plain": [
       "KNeighborsRegressor(n_neighbors=3)"
      ]
     },
     "execution_count": 67,
     "metadata": {},
     "output_type": "execute_result"
    }
   ],
   "source": [
    "knn = KNeighborsRegressor(n_neighbors=3)\n",
    "knn.fit(x_train,y_train)"
   ]
  },
  {
   "cell_type": "code",
   "execution_count": 68,
   "id": "faec5321",
   "metadata": {},
   "outputs": [
    {
     "data": {
      "text/plain": [
       "-74.56367055124234"
      ]
     },
     "execution_count": 68,
     "metadata": {},
     "output_type": "execute_result"
    }
   ],
   "source": [
    "knn.score(x_test,y_test)*100"
   ]
  },
  {
   "cell_type": "code",
   "execution_count": null,
   "id": "76c3db07",
   "metadata": {},
   "outputs": [],
   "source": []
  }
 ],
 "metadata": {
  "kernelspec": {
   "display_name": "Python 3 (ipykernel)",
   "language": "python",
   "name": "python3"
  },
  "language_info": {
   "codemirror_mode": {
    "name": "ipython",
    "version": 3
   },
   "file_extension": ".py",
   "mimetype": "text/x-python",
   "name": "python",
   "nbconvert_exporter": "python",
   "pygments_lexer": "ipython3",
   "version": "3.11.5"
  }
 },
 "nbformat": 4,
 "nbformat_minor": 5
}
