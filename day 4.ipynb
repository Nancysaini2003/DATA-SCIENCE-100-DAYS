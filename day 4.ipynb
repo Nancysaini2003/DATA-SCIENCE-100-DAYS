{
 "cells": [
  {
   "cell_type": "code",
   "execution_count": null,
   "id": "8f0164f8",
   "metadata": {},
   "outputs": [],
   "source": [
    "# HYPOTHESIS TESTING : it is a part of statistical analysis where we test the assumptions made regarding a population parameter.\n",
    "# it is generally used when we were to compare a single group with an external standard and two or more groups with each other.\n",
    "\n",
    "# TERMINOLOGY USED IN HYPOTHESIS TESTING :\n",
    "# 1) NULL HYPOTHESIS : null hypothesis is a statistical theory that suggests there is no statistical significance exists between the populations. it is denoted by HO and reads as H-naught.\n",
    "# EXAMPLE : A=B <=,>=\n",
    "# 2) ALTERNATIVE HYPOTHESIS : an alternative hypothesis suggests there is a significant difference between the population parameters . it could be greater or smaller. \n",
    "#    basically,it is the contrast of the null hypothesis. it is denoted by Ha or H1.\n",
    "# EXAMPLE : A<B,>,!=\n",
    "\n",
    "# THERE ARE THREE TYPES OF HYPOTHESIS TESTING : \n",
    "# 1) Z-TEST (AVERAGE)\n",
    "# 2) T-TEST (AVERAGE)\n",
    "# 3) CHI-SQUARE TEST :\n",
    "#                      1) CHECK THE GOODNESS\n",
    "#                     2) RELATION FIND OUT \n",
    "    \n",
    "# STEPS OF HYPOTHESIS TESTING :\n",
    "# 1) state null(HO) and alternative(H1) hypothesis : HO must always contain equality(=).H1 always contains difference(!=,>,<).\n",
    "# 2) choose level of significance(a) : \n",
    "# 3) find critical values\n",
    "# 4) find test statistic\n",
    "# 5) draw your conclusion"
   ]
  },
  {
   "cell_type": "code",
   "execution_count": 5,
   "id": "a8833962",
   "metadata": {},
   "outputs": [],
   "source": [
    "import scipy.stats as st\n",
    "import numpy as np"
   ]
  },
  {
   "cell_type": "code",
   "execution_count": null,
   "id": "42a26c28",
   "metadata": {},
   "outputs": [],
   "source": [
    "# QUESTION : A teacher claims that the mean score of students in his class is greater than 82 with a standard deviation of 20.\n",
    "#           if a sample of 81 students was selected with a mean score of 90."
   ]
  },
  {
   "cell_type": "code",
   "execution_count": 6,
   "id": "51504cca",
   "metadata": {},
   "outputs": [
    {
     "data": {
      "text/plain": [
       "1.6448536269514722"
      ]
     },
     "execution_count": 6,
     "metadata": {},
     "output_type": "execute_result"
    }
   ],
   "source": [
    "st.norm.ppf(0.95)"
   ]
  },
  {
   "cell_type": "code",
   "execution_count": 7,
   "id": "c786efda",
   "metadata": {},
   "outputs": [],
   "source": [
    "s_x =90\n",
    "p_u = 82\n",
    "p_std = 20\n",
    "n = 81\n",
    "ap = 0.05"
   ]
  },
  {
   "cell_type": "code",
   "execution_count": 8,
   "id": "459e1427",
   "metadata": {},
   "outputs": [],
   "source": [
    "z_cal =(s_x - p_u)/(p_std/np.sqrt(n))"
   ]
  },
  {
   "cell_type": "code",
   "execution_count": 9,
   "id": "cf2c5b67",
   "metadata": {},
   "outputs": [
    {
     "data": {
      "text/plain": [
       "3.5999999999999996"
      ]
     },
     "execution_count": 9,
     "metadata": {},
     "output_type": "execute_result"
    }
   ],
   "source": [
    "z_cal"
   ]
  },
  {
   "cell_type": "code",
   "execution_count": 10,
   "id": "0e6c2736",
   "metadata": {},
   "outputs": [
    {
     "data": {
      "text/plain": [
       "1.6448536269514722"
      ]
     },
     "execution_count": 10,
     "metadata": {},
     "output_type": "execute_result"
    }
   ],
   "source": [
    "z_table = st.norm.ppf(1-ap)\n",
    "z_table"
   ]
  },
  {
   "cell_type": "code",
   "execution_count": 11,
   "id": "f914c273",
   "metadata": {},
   "outputs": [
    {
     "name": "stdout",
     "output_type": "stream",
     "text": [
      "Ha is right\n"
     ]
    }
   ],
   "source": [
    "if z_table < z_cal :\n",
    "    print(\"Ha is right\")\n",
    "else:\n",
    "    print(\"Ho is right\")"
   ]
  },
  {
   "cell_type": "code",
   "execution_count": null,
   "id": "e8968638",
   "metadata": {},
   "outputs": [],
   "source": [
    "# QUESTION : Z-TEST\n",
    "# SCENARIO : Imagin you work for an e commerce company , and your team is responsible for analyzing customer purchase data.\n",
    "#             you want to determine whether a new website design has led to a significant increase in the average purchase \n",
    "#             amount compared to the design.\n",
    "\n",
    "# DATA : you have collected data form a random sample of 30 customers who made purchase on the old website design and 30 \n",
    "#        customers who made purchase on the new website design. you have the sample means,sample standard deviations , and sample sizes for both groups.\n",
    "# OLD DESIGN DATA : [45.2,42.8,38.9,43.5,41.0,40.5,42.7,39.8,41.4,44.3,39.7,42.1,40.8,43.0,42.2,41.5,39.6,44.0,43.1,38.7,43.9,42.0,42.8,43.7,41.3,40.9,42.5,41.6]\n",
    "# NEW DESIGN DATA : [48.5,49.1,50.2,47.8,48.7,49.9,48.0,50.5,49.8,48.0,50.5,49.8,48.8,48.2,49.9,49.7,50.3,49.4,50.1,48.6,48.3,49.0,50.0,48.4,49.3,49.5,48.8,50.6,50.4,48.1,49.2,50.7,50.8]\n",
    "# POPULATION = 25\n",
    "# N = 30\n",
    "\n",
    "# FORMULA : Z-TEST = mean(new)-mean(old)/(sigma/rootN)"
   ]
  },
  {
   "cell_type": "code",
   "execution_count": 12,
   "id": "dc9d7156",
   "metadata": {},
   "outputs": [],
   "source": [
    "import scipy.stats as st\n",
    "import numpy as np"
   ]
  },
  {
   "cell_type": "code",
   "execution_count": 19,
   "id": "8250a844",
   "metadata": {},
   "outputs": [],
   "source": [
    "Old_design_data = np.array([45.2,42.8,38.9,43.5,41.0,40.5,42.7,39.8,41.4,44.3,39.7,42.1,40.8,43.0,42.2,41.5,39.6,44.0,43.1,38.7,43.9,42.0,42.8,43.7,41.3,40.9,42.5,41.6])\n",
    "New_design_data = np.array([48.5,49.1,50.2,47.8,48.7,49.9,48.0,50.5,49.8,48.0,50.5,49.8,48.8,48.2,49.9,49.7,50.3,49.4,50.1,48.6,48.3,49.0,50.0,48.4,49.3,49.5,48.8,50.6,50.4,48.1,49.2,50.7,50.8])"
   ]
  },
  {
   "cell_type": "code",
   "execution_count": 20,
   "id": "30b9696c",
   "metadata": {},
   "outputs": [],
   "source": [
    "pop_std =2.5\n",
    "n_sp = len(New_design_data)\n",
    "apl = 0.05"
   ]
  },
  {
   "cell_type": "code",
   "execution_count": 21,
   "id": "be642b8e",
   "metadata": {},
   "outputs": [],
   "source": [
    "mean_old = np.mean(Old_design_data)\n",
    "mean_new = np.mean(New_design_data)"
   ]
  },
  {
   "cell_type": "code",
   "execution_count": 22,
   "id": "529f7707",
   "metadata": {},
   "outputs": [
    {
     "data": {
      "text/plain": [
       "17.118548004317674"
      ]
     },
     "execution_count": 22,
     "metadata": {},
     "output_type": "execute_result"
    }
   ],
   "source": [
    "z_cal = (mean_new - mean_old)/(pop_std/np.sqrt(n_sp))\n",
    "z_cal"
   ]
  },
  {
   "cell_type": "code",
   "execution_count": 23,
   "id": "fdaa6983",
   "metadata": {},
   "outputs": [
    {
     "data": {
      "text/plain": [
       "1.6448536269514722"
      ]
     },
     "execution_count": 23,
     "metadata": {},
     "output_type": "execute_result"
    }
   ],
   "source": [
    "z_table = st.norm.ppf(1-ap)\n",
    "z_table"
   ]
  },
  {
   "cell_type": "code",
   "execution_count": 24,
   "id": "11b1e7a6",
   "metadata": {},
   "outputs": [
    {
     "name": "stdout",
     "output_type": "stream",
     "text": [
      "Ha is right\n"
     ]
    }
   ],
   "source": [
    "if z_cal>z_table:\n",
    "    print(\"Ha is right\")\n",
    "else:\n",
    "    print(\"Ho is right\")"
   ]
  },
  {
   "cell_type": "code",
   "execution_count": null,
   "id": "41495a0a",
   "metadata": {},
   "outputs": [],
   "source": [
    "# T-TEST :\n",
    "# data ----> normal distribution\n",
    "# 1) pop --> mean\n",
    "# 2) sample --> std\n",
    "#           --> mean\n",
    "# 3) no. of sample < 30\n",
    "# 4) formula : mean(x)-mue/(s/root(n))\n",
    "#    x = sample mean\n",
    "#    mue = pop mean\n",
    "#    s = std sample\n",
    "#    n = no. of sample"
   ]
  },
  {
   "cell_type": "code",
   "execution_count": null,
   "id": "bffa968b",
   "metadata": {},
   "outputs": [],
   "source": [
    "# QUESTION : A manufacture claims that the average weight of a bag of potato chips is 150 grams. A sample of 25 bags is taken, and the \n",
    "#           average weight is found to be 148 grams , with a standard deviation of 5 grams.test the manufacturer's claim using a one-tailed t-test with a significance level of 0.05.\n",
    "\n",
    "# mue = 150                 Ho mue = 150 gm\n",
    "# mean(x) = 148             Ha mue < 150 gm \n",
    "# n = 25\n",
    "# s = 5 \n"
   ]
  },
  {
   "cell_type": "code",
   "execution_count": 28,
   "id": "a2ed079b",
   "metadata": {},
   "outputs": [],
   "source": [
    "import scipy.stats as st\n",
    "import numpy as np"
   ]
  },
  {
   "cell_type": "code",
   "execution_count": 26,
   "id": "f474569e",
   "metadata": {},
   "outputs": [
    {
     "data": {
      "text/plain": [
       "-1.7108820799094282"
      ]
     },
     "execution_count": 26,
     "metadata": {},
     "output_type": "execute_result"
    }
   ],
   "source": [
    "t_table =  st.t.ppf(0.05,24)"
   ]
  },
  {
   "cell_type": "code",
   "execution_count": null,
   "id": "09121694",
   "metadata": {},
   "outputs": [],
   "source": [
    "# QUESTION : A company wants to test whether there is a difference in productivity between two teams.they randomly select 20 employees from each team and record \n",
    "#           their productivity scores.the mean productivity score for Team A is 80 with a standard deviation of 5,while the mean productivity score for Team B is 75 \n",
    "#           with a standard deviation of 6 .test at a 5% level of significance whether there is a difference productivity between the two teams.   \n",
    "\n",
    "# FORMULA : (mean(a)-mean(b))-(mue(a)-mue(b))/(root(Sa2/na + Sb2/nb))"
   ]
  },
  {
   "cell_type": "code",
   "execution_count": null,
   "id": "121fe13f",
   "metadata": {},
   "outputs": [],
   "source": [
    "# SOLUTION : Ho = P(A)-P(B) = 0\n",
    "#          : Ha = P(A)-P(B) !=0\n"
   ]
  },
  {
   "cell_type": "code",
   "execution_count": 27,
   "id": "35b2d1d1",
   "metadata": {},
   "outputs": [
    {
     "data": {
      "text/plain": [
       "2.024394164575136"
      ]
     },
     "execution_count": 27,
     "metadata": {},
     "output_type": "execute_result"
    }
   ],
   "source": [
    "t_table =  st.t.ppf(1-0.025,38)\n",
    "t_table"
   ]
  },
  {
   "cell_type": "code",
   "execution_count": 29,
   "id": "b44a90e0",
   "metadata": {},
   "outputs": [
    {
     "data": {
      "text/plain": [
       "3.1311214554257476"
      ]
     },
     "execution_count": 29,
     "metadata": {},
     "output_type": "execute_result"
    }
   ],
   "source": [
    "t_cal = (80-75)/(np.sqrt((25/20)+(26/20)))\n",
    "t_cal"
   ]
  },
  {
   "cell_type": "code",
   "execution_count": null,
   "id": "d4fdb4c0",
   "metadata": {},
   "outputs": [],
   "source": [
    "# QUESTION : A company wants to test whether a new training program improves the typing spped of its employees.the typing spped of 20 employees was recoreded before and after the\n",
    "#            training program.the data is given below.test at a 5% level of significance whether the traning program has an effect on the typing spped of the employees.\n",
    "\n",
    "# Before : 50,60,45,65,55,70,40,75,80,65,70,60,50,55,45,75,60,50,65,70.\n",
    "# after : 60,70,55,75,65,80,50,85,90,70,75,65,55,60,50,80,65,55,70,75.\n",
    "\n",
    "# Ho : tB-tA=0\n",
    "# Ha : tB-tA !=0\n",
    "\n",
    "# FORMULA : x(A)-x(B)/(root(s(A)2/n + s(B)2/n))"
   ]
  },
  {
   "cell_type": "code",
   "execution_count": 30,
   "id": "29a20ab7",
   "metadata": {},
   "outputs": [
    {
     "data": {
      "text/plain": [
       "2.093024054408263"
      ]
     },
     "execution_count": 30,
     "metadata": {},
     "output_type": "execute_result"
    }
   ],
   "source": [
    "t_table =  st.t.ppf(1-0.025,19)\n",
    "t_table"
   ]
  },
  {
   "cell_type": "code",
   "execution_count": 31,
   "id": "09288fe3",
   "metadata": {},
   "outputs": [],
   "source": [
    "Before =np.array([50,60,45,65,55,70,40,75,80,65,70,60,50,55,45,75,60,50,65,70])\n",
    "After =np.array([60,70,55,75,65,80,50,85,90,70,75,65,55,60,50,80,65,55,70,75])\n",
    "\n"
   ]
  },
  {
   "cell_type": "code",
   "execution_count": 32,
   "id": "c61ffbe8",
   "metadata": {},
   "outputs": [],
   "source": [
    "std_a = np.std(After)\n",
    "std_b = np.std(Before)\n",
    "mean_a = np.mean(After)\n",
    "mean_b = np.mean(Before)"
   ]
  },
  {
   "cell_type": "code",
   "execution_count": 33,
   "id": "9114354c",
   "metadata": {},
   "outputs": [],
   "source": [
    "t_cal = (mean_a-mean_b) / (np.sqrt(((std_a*std_a)/len(After))+((std_b*std_b)/len(Before))))"
   ]
  },
  {
   "cell_type": "code",
   "execution_count": 34,
   "id": "60348587",
   "metadata": {},
   "outputs": [
    {
     "data": {
      "text/plain": [
       "2.061200527128206"
      ]
     },
     "execution_count": 34,
     "metadata": {},
     "output_type": "execute_result"
    }
   ],
   "source": [
    "t_cal"
   ]
  },
  {
   "cell_type": "code",
   "execution_count": null,
   "id": "9c015d65",
   "metadata": {},
   "outputs": [],
   "source": [
    "# CHI-TEST :\n",
    "1) CHI-SQUARE-TEST :\n",
    "    # FORMULA : CHI SQUARE TEST : SUM(Oi-Ei)2/Ei\n",
    "    # Oi = observed value \n",
    "    # Ei = expected value"
   ]
  },
  {
   "cell_type": "code",
   "execution_count": null,
   "id": "17756326",
   "metadata": {},
   "outputs": [],
   "source": [
    "# EXAMPLE : Afair die is rolled 120 times and the following  results are obtained:\n",
    "#           face 1 : 22 times---->20\n",
    "#           face 2 : 17 times---->20\n",
    "#           face 3 : 20 times---->20\n",
    "#           face 4 : 26 times----->20\n",
    "#          face 5 : 22 times------>20\n",
    "#         face 6 : 13 times------->20  \n",
    "# test at a 5% level of signifivance whether the die is fair.\n",
    "\n",
    "# Ho die is fair\n",
    "# Ha die is not fair"
   ]
  },
  {
   "cell_type": "code",
   "execution_count": 35,
   "id": "b2b06e60",
   "metadata": {},
   "outputs": [],
   "source": [
    "ob =np.array([22,17,20,26,22,13])\n",
    "ex =np.array([20,20,20,20,20,20])"
   ]
  },
  {
   "cell_type": "code",
   "execution_count": 36,
   "id": "22bec7b2",
   "metadata": {},
   "outputs": [
    {
     "data": {
      "text/plain": [
       "array([ 2, -3,  0,  6,  2, -7])"
      ]
     },
     "execution_count": 36,
     "metadata": {},
     "output_type": "execute_result"
    }
   ],
   "source": [
    "ob - ex"
   ]
  },
  {
   "cell_type": "code",
   "execution_count": 37,
   "id": "e9941078",
   "metadata": {},
   "outputs": [
    {
     "data": {
      "text/plain": [
       "array([ 4,  9,  0, 36,  4, 49])"
      ]
     },
     "execution_count": 37,
     "metadata": {},
     "output_type": "execute_result"
    }
   ],
   "source": [
    "np.square(ob - ex)"
   ]
  },
  {
   "cell_type": "code",
   "execution_count": 38,
   "id": "3c671d76",
   "metadata": {},
   "outputs": [
    {
     "data": {
      "text/plain": [
       "5.1000000000000005"
      ]
     },
     "execution_count": 38,
     "metadata": {},
     "output_type": "execute_result"
    }
   ],
   "source": [
    "np.sum(np.square(ob - ex)/ex)"
   ]
  },
  {
   "cell_type": "code",
   "execution_count": null,
   "id": "4e5f0404",
   "metadata": {},
   "outputs": [],
   "source": [
    "# EXAMPLE : A study was conducted to investigate whether there is a relationship between gender and the preferred genre of music. A sample of 235 people was selected , and \n",
    "#           and the data collected is shown below. test at a 5% level of significance whether there is a significance association between gender and music preference.\n",
    "#          POP      HIP-HOP   CLASSICAL   ROCK\n",
    "# MALE     40       45         25          10 -----> sum R1\n",
    "# FEMALE   35       30         20          30 -----> sum R2\n",
    "\n",
    "# sum C1 * sum R1/ no. of samples\n",
    "\n",
    "# Ho = no association\n",
    "# Ha = association"
   ]
  },
  {
   "cell_type": "code",
   "execution_count": 39,
   "id": "f2fbdade",
   "metadata": {},
   "outputs": [],
   "source": [
    "# OBESERVATION VALUE\n",
    "row1 = np.array([40,45,25,10])\n",
    "row2 = np.array([35,30,20,30])"
   ]
  },
  {
   "cell_type": "code",
   "execution_count": 40,
   "id": "f93e7e99",
   "metadata": {},
   "outputs": [
    {
     "data": {
      "text/plain": [
       "235"
      ]
     },
     "execution_count": 40,
     "metadata": {},
     "output_type": "execute_result"
    }
   ],
   "source": [
    "np.sum(row1) + np.sum(row2)"
   ]
  },
  {
   "cell_type": "code",
   "execution_count": 43,
   "id": "267612fa",
   "metadata": {},
   "outputs": [
    {
     "data": {
      "text/plain": [
       "array([120, 115])"
      ]
     },
     "execution_count": 43,
     "metadata": {},
     "output_type": "execute_result"
    }
   ],
   "source": [
    "sum_r1 = np.sum(row1)\n",
    "sum_r2 = np.sum(row2)\n",
    "sum_row = np.array([sum_r1,sum_r2])\n",
    "sum_row"
   ]
  },
  {
   "cell_type": "code",
   "execution_count": null,
   "id": "6488eb35",
   "metadata": {},
   "outputs": [],
   "source": [
    "sum_r1 = np.sum(row1)\n",
    "sum_r2 = np.sum(row2)\n",
    "sum_r1,sum_r2"
   ]
  },
  {
   "cell_type": "code",
   "execution_count": 42,
   "id": "16bf357e",
   "metadata": {},
   "outputs": [
    {
     "data": {
      "text/plain": [
       "array([75, 75, 45, 40])"
      ]
     },
     "execution_count": 42,
     "metadata": {},
     "output_type": "execute_result"
    }
   ],
   "source": [
    "sum_cal = row1+row2\n",
    "sum_cal"
   ]
  },
  {
   "cell_type": "code",
   "execution_count": 45,
   "id": "c9f4e2a4",
   "metadata": {},
   "outputs": [
    {
     "name": "stdout",
     "output_type": "stream",
     "text": [
      "120 75\n",
      "120 75\n",
      "120 45\n",
      "120 40\n",
      "115 75\n",
      "115 75\n",
      "115 45\n",
      "115 40\n"
     ]
    }
   ],
   "source": [
    "exp = []\n",
    "for i in sum_row:\n",
    "    for j in sum_cal:\n",
    "        print(i,j)\n",
    "        value = (i*j)/235\n",
    "        exp.append(value)"
   ]
  },
  {
   "cell_type": "code",
   "execution_count": 46,
   "id": "dbf4eca7",
   "metadata": {},
   "outputs": [
    {
     "data": {
      "text/plain": [
       "[38.297872340425535,\n",
       " 38.297872340425535,\n",
       " 22.97872340425532,\n",
       " 20.425531914893618,\n",
       " 36.702127659574465,\n",
       " 36.702127659574465,\n",
       " 22.02127659574468,\n",
       " 19.574468085106382]"
      ]
     },
     "execution_count": 46,
     "metadata": {},
     "output_type": "execute_result"
    }
   ],
   "source": [
    "exp"
   ]
  },
  {
   "cell_type": "code",
   "execution_count": 47,
   "id": "bd3b2ec5",
   "metadata": {},
   "outputs": [
    {
     "data": {
      "text/plain": [
       "array([40, 45, 25, 10, 35, 30, 20, 30])"
      ]
     },
     "execution_count": 47,
     "metadata": {},
     "output_type": "execute_result"
    }
   ],
   "source": [
    "obj = np.array([40,45,25,10,35,30,20,30])\n",
    "obj"
   ]
  },
  {
   "cell_type": "code",
   "execution_count": 49,
   "id": "17a35b5f",
   "metadata": {},
   "outputs": [
    {
     "data": {
      "text/plain": [
       "8"
      ]
     },
     "execution_count": 49,
     "metadata": {},
     "output_type": "execute_result"
    }
   ],
   "source": [
    "len(obj)"
   ]
  },
  {
   "cell_type": "code",
   "execution_count": 50,
   "id": "53e7645a",
   "metadata": {},
   "outputs": [
    {
     "data": {
      "text/plain": [
       "8"
      ]
     },
     "execution_count": 50,
     "metadata": {},
     "output_type": "execute_result"
    }
   ],
   "source": [
    "len(exp)"
   ]
  },
  {
   "cell_type": "code",
   "execution_count": 48,
   "id": "11d61c17",
   "metadata": {},
   "outputs": [
    {
     "data": {
      "text/plain": [
       "array([  1.70212766,   6.70212766,   2.0212766 , -10.42553191,\n",
       "        -1.70212766,  -6.70212766,  -2.0212766 ,  10.42553191])"
      ]
     },
     "execution_count": 48,
     "metadata": {},
     "output_type": "execute_result"
    }
   ],
   "source": [
    "obj - exp"
   ]
  },
  {
   "cell_type": "code",
   "execution_count": 51,
   "id": "f2376650",
   "metadata": {},
   "outputs": [
    {
     "data": {
      "text/plain": [
       "array([  2.89723857,  44.91851517,   4.08555908, 108.69171571,\n",
       "         2.89723857,  44.91851517,   4.08555908, 108.69171571])"
      ]
     },
     "execution_count": 51,
     "metadata": {},
     "output_type": "execute_result"
    }
   ],
   "source": [
    "np.square(obj - exp)"
   ]
  },
  {
   "cell_type": "code",
   "execution_count": 53,
   "id": "6fb69795",
   "metadata": {},
   "outputs": [
    {
     "data": {
      "text/plain": [
       "array([0.07565012, 1.17287234, 0.17779748, 5.32136525, 0.07893925,\n",
       "       1.22386679, 0.1855278 , 5.55272895])"
      ]
     },
     "execution_count": 53,
     "metadata": {},
     "output_type": "execute_result"
    }
   ],
   "source": [
    "np.square(obj - exp)/exp"
   ]
  }
 ],
 "metadata": {
  "kernelspec": {
   "display_name": "Python 3 (ipykernel)",
   "language": "python",
   "name": "python3"
  },
  "language_info": {
   "codemirror_mode": {
    "name": "ipython",
    "version": 3
   },
   "file_extension": ".py",
   "mimetype": "text/x-python",
   "name": "python",
   "nbconvert_exporter": "python",
   "pygments_lexer": "ipython3",
   "version": "3.11.5"
  }
 },
 "nbformat": 4,
 "nbformat_minor": 5
}
